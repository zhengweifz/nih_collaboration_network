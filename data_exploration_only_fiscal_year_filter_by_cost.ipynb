{
 "cells": [
  {
   "cell_type": "code",
   "execution_count": 1,
   "metadata": {
    "collapsed": true
   },
   "outputs": [],
   "source": [
    "import pandas as pd\n",
    "import sqlite3 as sq\n",
    "from datetime import datetime\n",
    "import numpy as np"
   ]
  },
  {
   "cell_type": "code",
   "execution_count": 3,
   "metadata": {
    "collapsed": true
   },
   "outputs": [],
   "source": [
    "pd.options.display.max_columns=999"
   ]
  },
  {
   "cell_type": "code",
   "execution_count": 4,
   "metadata": {
    "collapsed": false
   },
   "outputs": [],
   "source": [
    "con_nih = sq.connect('../nih.db')"
   ]
  },
  {
   "cell_type": "code",
   "execution_count": 5,
   "metadata": {
    "collapsed": false
   },
   "outputs": [],
   "source": [
    "# only NIH projects\n",
    "sql = '''\n",
    "Select PI_IDS, PI_NAMEs, CORE_PROJECT_NUM, FY, ADMINISTERING_IC, TOTAL_COST, TOTAL_COST_SUB_PROJECT, ACTIVITY, FUNDING_MECHANISM\n",
    "From projects\n",
    "Where ADMINISTERING_IC in ('CC','RG', 'CIT', 'TW', 'TR', 'AT',\n",
    "    'CA', 'RR', 'EY', 'HG', 'HL', 'AG', 'AA', 'AI', 'AR', 'EB', 'HD',\n",
    "    'DA', 'DC', 'DE', 'DK', 'ES', 'GM', 'MH', 'MD', 'NS', 'NR', 'LM', 'OD' )\n",
    "'''\n",
    "df_projects = pd.read_sql(sql, con_nih)"
   ]
  },
  {
   "cell_type": "code",
   "execution_count": 6,
   "metadata": {
    "collapsed": false
   },
   "outputs": [
    {
     "data": {
      "text/plain": [
       "array(['Non-SBIR/STTR RPGs', 'TRAINING, INDIVIDUAL', 'RESEARCH CENTERS',\n",
       "       'OTHER RESEARCH-RELATED', 'TRAINING, INSTITUTIONAL',\n",
       "       'SBIR-STTR RPGs', None, 'Contracts, Extramural', 'Construction',\n",
       "       'Other Research Related', 'Research Projects',\n",
       "       'Training, Individual', 'Research Centers', 'Unknown', 'SBIR-STTR',\n",
       "       'Training, Institutional', 'Intramural Research', 'Other',\n",
       "       'Non SBIR/STTR Contracts', 'INTRAMURAL RESEARCH',\n",
       "       'INTERAGENCY AGREEMENTS', 'SBIR/STTR Contracts', 'OTHERS',\n",
       "       'CONSTRUCTION GRANTS'], dtype=object)"
      ]
     },
     "execution_count": 6,
     "metadata": {},
     "output_type": "execute_result"
    }
   ],
   "source": [
    "df_projects.FUNDING_MECHANISM.unique()"
   ]
  },
  {
   "cell_type": "code",
   "execution_count": 7,
   "metadata": {
    "collapsed": false
   },
   "outputs": [],
   "source": [
    "# Missing FUNDING_MECHANISM in Earlier Years \n",
    "# So Use activity to filter data \n",
    "research_activities = df_projects.ACTIVITY[df_projects.FUNDING_MECHANISM.isin(['RESEARCH CENTERS','Research Projects', 'Research Centers'])].unique()\n",
    "df_projects = df_projects[df_projects.ACTIVITY.isin(research_activities)]\n",
    "# filter projects that has total costs less than $50,000\n",
    "df_projects['TOTAL_COST'] = df_projects[['TOTAL_COST']].where(~df_projects['TOTAL_COST'].isnull(),0)\n",
    "df_projects['TOTAL_COST_SUB_PROJECT'] = df_projects[['TOTAL_COST_SUB_PROJECT']].where(~df_projects['TOTAL_COST_SUB_PROJECT'].isnull(),0)\n",
    "df_projects['TOTAL_COST']  = df_projects['TOTAL_COST'] + df_projects['TOTAL_COST_SUB_PROJECT']\n",
    "#only look at 2001-2015\n",
    "before_2001 = df_projects['FY'] < 2001\n",
    "after_2015  = df_projects['FY'] > 2015\n",
    "df_projects = df_projects[(~before_2001) & (~after_2015)]\n",
    "#save some project edge attribute\n",
    "#CORE_PROJECT_NUM contains activity codes\n",
    "df_proj_uniq = df_projects.drop_duplicates('CORE_PROJECT_NUM')\n",
    "df_proj_uniq.to_csv('../data/prj_attribute.csv', index=False, header=True)"
   ]
  },
  {
   "cell_type": "markdown",
   "metadata": {
    "collapsed": false
   },
   "source": [
    "#### Retrieve each indiviual pid"
   ]
  },
  {
   "cell_type": "code",
   "execution_count": 11,
   "metadata": {
    "collapsed": false
   },
   "outputs": [
    {
     "name": "stderr",
     "output_type": "stream",
     "text": [
      "/Users/weizheng/anaconda/lib/python3.5/site-packages/pandas/core/generic.py:4702: SettingWithCopyWarning: \n",
      "A value is trying to be set on a copy of a slice from a DataFrame\n",
      "\n",
      "See the caveats in the documentation: http://pandas.pydata.org/pandas-docs/stable/indexing.html#indexing-view-versus-copy\n",
      "  self._update_inplace(new_data)\n"
     ]
    },
    {
     "data": {
      "text/plain": [
       "array(['others', 'GM'], dtype=object)"
      ]
     },
     "execution_count": 11,
     "metadata": {},
     "output_type": "execute_result"
    }
   ],
   "source": [
    "df_temp = df_projects[['PI_IDS','PI_NAMEs','CORE_PROJECT_NUM', 'FY', 'ADMINISTERING_IC', 'TOTAL_COST']]\n",
    "df_temp.ADMINISTERING_IC.where(df_temp.ADMINISTERING_IC == 'GM', 'others', inplace=True)\n",
    "df_temp.ADMINISTERING_IC.where(df_temp.ADMINISTERING_IC == 'others', 'GM', inplace=True)\n",
    "df_temp.ADMINISTERING_IC.unique()"
   ]
  },
  {
   "cell_type": "code",
   "execution_count": 105,
   "metadata": {
    "collapsed": false
   },
   "outputs": [],
   "source": [
    "#create pid and name pairs\n",
    "vals = df_temp.values;\n",
    "rows, cols = vals.shape\n",
    "p_ids = []\n",
    "p_names = []\n",
    "p_nums = []\n",
    "fys = []\n",
    "ics = []\n",
    "costs = []\n",
    "#grab each pid from the ';' separated strings\n",
    "for i in range(0,rows):\n",
    "    if vals[i, 0] is not None and vals[i, 1] is not None:\n",
    "        ids = vals[i, 0].strip().split(';')\n",
    "        names = vals[i,1].strip().split(';')\n",
    "        ids.pop()\n",
    "        names.pop()\n",
    "        if len(ids) == len(names):\n",
    "            #if there are more than one pid, take primary contact\n",
    "            if len(ids) == 1:\n",
    "                ids = [d.strip() for d in ids ]\n",
    "                names = [n.strip() for n in names]\n",
    "            else:\n",
    "                #ids = [d.replace(' (contact)', '').strip() for d in ids if '(contact)'   in d]\n",
    "                #names = [n.replace(' (contact)', '').strip() for n in names if '(contact)' in n]\n",
    "                ids = [d.replace(' (contact)', '').strip() for d in ids ]\n",
    "                names = [n.replace(' (contact)', '').strip() for n in names]\n",
    "            p_num = vals[i,2]\n",
    "            fy = vals[i,3]\n",
    "            ic = vals[i,4]\n",
    "            cost = vals[i,5]\n",
    "            p_ids.extend(ids)\n",
    "            p_names.extend(names)\n",
    "            p_nums.extend([str(p_num)] * len(ids))\n",
    "            fys.extend([fy] * len(ids))\n",
    "            ics.extend([ic] * len(ids))\n",
    "            costs.extend([cost /  len(ids)] * len(ids))\n"
   ]
  },
  {
   "cell_type": "code",
   "execution_count": 106,
   "metadata": {
    "collapsed": true
   },
   "outputs": [],
   "source": [
    "data = {\n",
    "    \"pid\": p_ids,\n",
    "    \"p_names\": p_names,\n",
    "    \"p_nums\": p_nums,\n",
    "    \"fys\" : fys,\n",
    "    \"ics\" : ics,\n",
    "    \"costs\" : costs\n",
    "}\n",
    "df_temp = pd.DataFrame(data)"
   ]
  },
  {
   "cell_type": "code",
   "execution_count": 107,
   "metadata": {
    "collapsed": false
   },
   "outputs": [
    {
     "data": {
      "text/plain": [
       "(903129, 6)"
      ]
     },
     "execution_count": 107,
     "metadata": {},
     "output_type": "execute_result"
    }
   ],
   "source": [
    "df_temp.shape"
   ]
  },
  {
   "cell_type": "code",
   "execution_count": 108,
   "metadata": {
    "collapsed": false
   },
   "outputs": [],
   "source": [
    "df_cost = df_temp[['pid', 'fys', 'costs']]\n",
    "df_pid_costsum_by_year = df_cost.groupby(['pid','fys']).sum()\n",
    "df_pid_costsum_by_year.reset_index(inplace=True)\n",
    "df_pid_costsum_by_year = df_pid_costsum_by_year[df_pid_costsum_by_year.costs >= 50000]\n",
    "df_pid_costsum_by_year = df_pid_costsum_by_year[df_pid_costsum_by_year.pid !='']"
   ]
  },
  {
   "cell_type": "code",
   "execution_count": 109,
   "metadata": {
    "collapsed": false
   },
   "outputs": [
    {
     "data": {
      "text/plain": [
       "(467505, 3)"
      ]
     },
     "execution_count": 109,
     "metadata": {},
     "output_type": "execute_result"
    }
   ],
   "source": [
    "df_pid_costsum_by_year.shape"
   ]
  },
  {
   "cell_type": "code",
   "execution_count": 110,
   "metadata": {
    "collapsed": false
   },
   "outputs": [
    {
     "data": {
      "text/html": [
       "<div>\n",
       "<table border=\"1\" class=\"dataframe\">\n",
       "  <thead>\n",
       "    <tr style=\"text-align: right;\">\n",
       "      <th></th>\n",
       "      <th>pid</th>\n",
       "      <th>fys</th>\n",
       "      <th>costs</th>\n",
       "    </tr>\n",
       "  </thead>\n",
       "  <tbody>\n",
       "    <tr>\n",
       "      <th>4</th>\n",
       "      <td>10000396</td>\n",
       "      <td>2010</td>\n",
       "      <td>125610.0</td>\n",
       "    </tr>\n",
       "    <tr>\n",
       "      <th>5</th>\n",
       "      <td>10000396</td>\n",
       "      <td>2011</td>\n",
       "      <td>142429.0</td>\n",
       "    </tr>\n",
       "    <tr>\n",
       "      <th>6</th>\n",
       "      <td>10000396</td>\n",
       "      <td>2012</td>\n",
       "      <td>154636.0</td>\n",
       "    </tr>\n",
       "    <tr>\n",
       "      <th>7</th>\n",
       "      <td>10000396</td>\n",
       "      <td>2013</td>\n",
       "      <td>151791.0</td>\n",
       "    </tr>\n",
       "    <tr>\n",
       "      <th>8</th>\n",
       "      <td>10000396</td>\n",
       "      <td>2014</td>\n",
       "      <td>128800.0</td>\n",
       "    </tr>\n",
       "  </tbody>\n",
       "</table>\n",
       "</div>"
      ],
      "text/plain": [
       "        pid   fys     costs\n",
       "4  10000396  2010  125610.0\n",
       "5  10000396  2011  142429.0\n",
       "6  10000396  2012  154636.0\n",
       "7  10000396  2013  151791.0\n",
       "8  10000396  2014  128800.0"
      ]
     },
     "execution_count": 110,
     "metadata": {},
     "output_type": "execute_result"
    }
   ],
   "source": [
    "df_pid_costsum_by_year.head(5)"
   ]
  },
  {
   "cell_type": "code",
   "execution_count": 111,
   "metadata": {
    "collapsed": false
   },
   "outputs": [
    {
     "data": {
      "text/html": [
       "<div>\n",
       "<table border=\"1\" class=\"dataframe\">\n",
       "  <thead>\n",
       "    <tr style=\"text-align: right;\">\n",
       "      <th></th>\n",
       "      <th>costs</th>\n",
       "      <th>fys</th>\n",
       "      <th>ics</th>\n",
       "      <th>p_names</th>\n",
       "      <th>p_nums</th>\n",
       "      <th>pid</th>\n",
       "    </tr>\n",
       "  </thead>\n",
       "  <tbody>\n",
       "    <tr>\n",
       "      <th>0</th>\n",
       "      <td>174299.0</td>\n",
       "      <td>2015</td>\n",
       "      <td>others</td>\n",
       "      <td>LIU, SHAN-LU</td>\n",
       "      <td>R21AI109464</td>\n",
       "      <td>10637051</td>\n",
       "    </tr>\n",
       "    <tr>\n",
       "      <th>1</th>\n",
       "      <td>25000.0</td>\n",
       "      <td>2014</td>\n",
       "      <td>others</td>\n",
       "      <td>NAJJAR, SONIA M.</td>\n",
       "      <td>R01DK054254</td>\n",
       "      <td>1936803</td>\n",
       "    </tr>\n",
       "    <tr>\n",
       "      <th>2</th>\n",
       "      <td>7082.5</td>\n",
       "      <td>2015</td>\n",
       "      <td>others</td>\n",
       "      <td>NAVAS-ACIEN, ANA</td>\n",
       "      <td>R01ES021367</td>\n",
       "      <td>8696712</td>\n",
       "    </tr>\n",
       "    <tr>\n",
       "      <th>3</th>\n",
       "      <td>7082.5</td>\n",
       "      <td>2015</td>\n",
       "      <td>others</td>\n",
       "      <td>VAIDYA, DHANANJAY MADHUKAR</td>\n",
       "      <td>R01ES021367</td>\n",
       "      <td>8656693</td>\n",
       "    </tr>\n",
       "    <tr>\n",
       "      <th>4</th>\n",
       "      <td>349856.0</td>\n",
       "      <td>2015</td>\n",
       "      <td>others</td>\n",
       "      <td>WILLIAMS, TYISHA</td>\n",
       "      <td>R15NS084329</td>\n",
       "      <td>14584389</td>\n",
       "    </tr>\n",
       "  </tbody>\n",
       "</table>\n",
       "</div>"
      ],
      "text/plain": [
       "      costs   fys     ics                     p_names       p_nums       pid\n",
       "0  174299.0  2015  others                LIU, SHAN-LU  R21AI109464  10637051\n",
       "1   25000.0  2014  others            NAJJAR, SONIA M.  R01DK054254   1936803\n",
       "2    7082.5  2015  others            NAVAS-ACIEN, ANA  R01ES021367   8696712\n",
       "3    7082.5  2015  others  VAIDYA, DHANANJAY MADHUKAR  R01ES021367   8656693\n",
       "4  349856.0  2015  others            WILLIAMS, TYISHA  R15NS084329  14584389"
      ]
     },
     "execution_count": 111,
     "metadata": {},
     "output_type": "execute_result"
    }
   ],
   "source": [
    "df_temp.head(5)"
   ]
  },
  {
   "cell_type": "markdown",
   "metadata": {},
   "source": [
    "#### Take out researchers who have supports less than $50000 per year"
   ]
  },
  {
   "cell_type": "code",
   "execution_count": 112,
   "metadata": {
    "collapsed": false
   },
   "outputs": [],
   "source": [
    "df_temp = df_temp[df_temp.pid.isin(df_pid_costsum_by_year.pid)]"
   ]
  },
  {
   "cell_type": "code",
   "execution_count": 113,
   "metadata": {
    "collapsed": true
   },
   "outputs": [],
   "source": [
    "p_ids = list(df_temp.pid)\n",
    "p_names = list(df_temp.p_names)\n",
    "p_nums = list(df_temp.p_nums)\n",
    "fys = list(df_temp.fys)\n",
    "ics = list(df_temp.ics)"
   ]
  },
  {
   "cell_type": "code",
   "execution_count": 114,
   "metadata": {
    "collapsed": false
   },
   "outputs": [],
   "source": [
    "def getUniqDF(arrayList):\n",
    "    #taking equal-length arrays, create  unique combinations\n",
    "    cs = ['_'.join([str(a) for a in A]) for A in zip(*arrayList)]\n",
    "    uniq_comb = list(set(cs))\n",
    "    a_len = len(arrayList)\n",
    "    outputs = [];\n",
    "    for i in range(a_len):\n",
    "        outputs.append([])\n",
    "    #unique combinations\n",
    "    for c in uniq_comb:\n",
    "        s = c.split('_')\n",
    "        for si in range(a_len):\n",
    "            outputs[si].append(s[si])\n",
    "    return(outputs)\n",
    "# pid and names\n",
    "uniq_pids, uniq_names = getUniqDF([p_ids, p_names])\n",
    "df_pid_name = pd.DataFrame({'pid': uniq_pids, 'full_name':uniq_names})\n",
    "\n",
    "# pids and project number\n",
    "pid4num, uniq_prjnum = getUniqDF([p_ids, p_nums])\n",
    "df_pid_prjnum = pd.DataFrame({'pid': pid4num, 'project_key':uniq_prjnum})\n",
    "\n",
    "# pids, fy, and ic\n",
    "pid4fy, fys_support, ics_support = getUniqDF([p_ids, fys, ics])   \n",
    "df_pid_fy_ic = pd.DataFrame({'pid': pid4fy, 'fy':fys_support, 'ic': ics_support })\n",
    "\n"
   ]
  },
  {
   "cell_type": "code",
   "execution_count": 115,
   "metadata": {
    "collapsed": false
   },
   "outputs": [],
   "source": [
    "#calculate years of support \n",
    "df_pid_fy_ic['val'] = 1\n",
    "df_sum = df_pid_fy_ic[['pid', 'ic', 'val']]\n",
    "df_support = df_sum.pivot_table(columns='ic', index='pid', values='val', aggfunc='sum')\n",
    "df_support.columns = ['nigms_years', 'others_years']\n",
    "df_support['nih_years'] =  df_support[['nigms_years', 'others_years']].apply(np.max, axis=1)\n",
    "\n"
   ]
  },
  {
   "cell_type": "code",
   "execution_count": 116,
   "metadata": {
    "collapsed": false
   },
   "outputs": [
    {
     "data": {
      "text/html": [
       "<div>\n",
       "<table border=\"1\" class=\"dataframe\">\n",
       "  <thead>\n",
       "    <tr style=\"text-align: right;\">\n",
       "      <th></th>\n",
       "      <th>nigms_years</th>\n",
       "      <th>others_years</th>\n",
       "      <th>nih_years</th>\n",
       "    </tr>\n",
       "    <tr>\n",
       "      <th>pid</th>\n",
       "      <th></th>\n",
       "      <th></th>\n",
       "      <th></th>\n",
       "    </tr>\n",
       "  </thead>\n",
       "  <tbody>\n",
       "    <tr>\n",
       "      <th>10000396</th>\n",
       "      <td>NaN</td>\n",
       "      <td>5.0</td>\n",
       "      <td>5.0</td>\n",
       "    </tr>\n",
       "    <tr>\n",
       "      <th>10000490</th>\n",
       "      <td>NaN</td>\n",
       "      <td>2.0</td>\n",
       "      <td>2.0</td>\n",
       "    </tr>\n",
       "    <tr>\n",
       "      <th>10001078</th>\n",
       "      <td>NaN</td>\n",
       "      <td>3.0</td>\n",
       "      <td>3.0</td>\n",
       "    </tr>\n",
       "    <tr>\n",
       "      <th>10001128</th>\n",
       "      <td>NaN</td>\n",
       "      <td>1.0</td>\n",
       "      <td>1.0</td>\n",
       "    </tr>\n",
       "    <tr>\n",
       "      <th>10001159</th>\n",
       "      <td>NaN</td>\n",
       "      <td>1.0</td>\n",
       "      <td>1.0</td>\n",
       "    </tr>\n",
       "  </tbody>\n",
       "</table>\n",
       "</div>"
      ],
      "text/plain": [
       "          nigms_years  others_years  nih_years\n",
       "pid                                           \n",
       "10000396          NaN           5.0        5.0\n",
       "10000490          NaN           2.0        2.0\n",
       "10001078          NaN           3.0        3.0\n",
       "10001128          NaN           1.0        1.0\n",
       "10001159          NaN           1.0        1.0"
      ]
     },
     "execution_count": 116,
     "metadata": {},
     "output_type": "execute_result"
    }
   ],
   "source": [
    "df_support.head(5)"
   ]
  },
  {
   "cell_type": "markdown",
   "metadata": {},
   "source": [
    "### NIGMS researchers"
   ]
  },
  {
   "cell_type": "code",
   "execution_count": 117,
   "metadata": {
    "collapsed": false
   },
   "outputs": [],
   "source": [
    "#definition of continually supported\n",
    "nigms_inds = df_support.nigms_years>1\n",
    "nigms_contin_inds = df_support.nigms_years==15\n",
    "nih_contin_inds = (df_support.nih_years==15) & (df_support.nigms_years > 1)\n",
    "df_support['is_study'] = 0\n",
    "df_support['is_comp'] = 0\n",
    "df_support['is_nigms'] = 0\n",
    "df_support.ix[nigms_contin_inds, 'is_study' ] = 1\n",
    "df_support.ix[nih_contin_inds & (~nigms_contin_inds), 'is_comp' ] = 1\n",
    "df_support.ix[nigms_inds, 'is_nigms'] = 1"
   ]
  },
  {
   "cell_type": "code",
   "execution_count": 118,
   "metadata": {
    "collapsed": false
   },
   "outputs": [
    {
     "data": {
      "text/plain": [
       "Index(['10008168', '10010745', '10010983', '10011950', '10021299', '10028321',\n",
       "       '10036621', '10039101', '10058046', '10058461',\n",
       "       ...\n",
       "       '9971733', '9974889', '9983921', '9984179', '9985280', '9987162',\n",
       "       '9996634', '9996881', '9997153', '9997198'],\n",
       "      dtype='object', name='pid', length=8665)"
      ]
     },
     "execution_count": 118,
     "metadata": {},
     "output_type": "execute_result"
    }
   ],
   "source": [
    "df_support[nigms_inds].index"
   ]
  },
  {
   "cell_type": "code",
   "execution_count": 119,
   "metadata": {
    "collapsed": false
   },
   "outputs": [
    {
     "data": {
      "text/plain": [
       "8665"
      ]
     },
     "execution_count": 119,
     "metadata": {},
     "output_type": "execute_result"
    }
   ],
   "source": [
    "len(df_support[nigms_inds]) "
   ]
  },
  {
   "cell_type": "markdown",
   "metadata": {},
   "source": [
    "#### Continually Supported by NIGMS"
   ]
  },
  {
   "cell_type": "code",
   "execution_count": 120,
   "metadata": {
    "collapsed": false
   },
   "outputs": [
    {
     "data": {
      "text/plain": [
       "523"
      ]
     },
     "execution_count": 120,
     "metadata": {},
     "output_type": "execute_result"
    }
   ],
   "source": [
    "len(df_support.ix[nigms_contin_inds, 'is_study' ])"
   ]
  },
  {
   "cell_type": "markdown",
   "metadata": {},
   "source": [
    "#### Researchers who were continually supported by NIH"
   ]
  },
  {
   "cell_type": "code",
   "execution_count": 121,
   "metadata": {
    "collapsed": false
   },
   "outputs": [
    {
     "data": {
      "text/plain": [
       "458"
      ]
     },
     "execution_count": 121,
     "metadata": {},
     "output_type": "execute_result"
    }
   ],
   "source": [
    "len(df_support.ix[nih_contin_inds & (~nigms_contin_inds), 'is_comp' ])"
   ]
  },
  {
   "cell_type": "markdown",
   "metadata": {},
   "source": [
    "### Compare with Andrew pids"
   ]
  },
  {
   "cell_type": "code",
   "execution_count": 122,
   "metadata": {
    "collapsed": false
   },
   "outputs": [],
   "source": [
    "study_set = set(df_support.ix[nigms_contin_inds, 'is_study' ].index)\n",
    "comp_set = set(df_support.ix[nih_contin_inds & (~nigms_contin_inds), 'is_comp' ].index) \n",
    "whole_set = study_set | comp_set\n",
    "andrew_df = pd.read_csv('../data/andrew_pids.csv', header =0)\n",
    "andrew_df = andrew_df.applymap(str)\n",
    "andrew_set = set(andrew_df.iloc[:,0].values)"
   ]
  },
  {
   "cell_type": "code",
   "execution_count": 123,
   "metadata": {
    "collapsed": false
   },
   "outputs": [
    {
     "data": {
      "text/plain": [
       "272"
      ]
     },
     "execution_count": 123,
     "metadata": {},
     "output_type": "execute_result"
    }
   ],
   "source": [
    "our_notin_andrew = (whole_set - andrew_set)\n",
    "len(our_notin_andrew)"
   ]
  },
  {
   "cell_type": "code",
   "execution_count": 124,
   "metadata": {
    "collapsed": false
   },
   "outputs": [
    {
     "data": {
      "text/plain": [
       "235"
      ]
     },
     "execution_count": 124,
     "metadata": {},
     "output_type": "execute_result"
    }
   ],
   "source": [
    "andrew_notin_ours = andrew_set - whole_set\n",
    "len(andrew_notin_ours)"
   ]
  },
  {
   "cell_type": "code",
   "execution_count": 125,
   "metadata": {
    "collapsed": false
   },
   "outputs": [
    {
     "data": {
      "text/plain": [
       "709"
      ]
     },
     "execution_count": 125,
     "metadata": {},
     "output_type": "execute_result"
    }
   ],
   "source": [
    "join_set = whole_set & andrew_set\n",
    "len(join_set)"
   ]
  },
  {
   "cell_type": "markdown",
   "metadata": {},
   "source": [
    "### Create Author Table"
   ]
  },
  {
   "cell_type": "code",
   "execution_count": 126,
   "metadata": {
    "collapsed": true
   },
   "outputs": [],
   "source": [
    "df_pid_name.drop_duplicates(['pid'], inplace=True)\n",
    "df_pid_name = df_pid_name[~df_pid_name.pid.isnull()]\n",
    "df_pid_name = df_pid_name[df_pid_name.full_name != 'WEDEN, MARGARET']"
   ]
  },
  {
   "cell_type": "code",
   "execution_count": 127,
   "metadata": {
    "collapsed": false
   },
   "outputs": [],
   "source": [
    "temp_df = df_pid_name.copy()\n",
    "temp_df['pi_key'] = 'nih'+'_'+ temp_df['pid']\n",
    "temp_df['full_name'] = temp_df['full_name'].str.lower()\n",
    "temp_df['last_name'] = temp_df['full_name'].str.split(',').str.get(0)\n",
    "temp_df['f_m_name'] = temp_df['full_name'].str.split(',').str.get(1)\n",
    "temp_df['f_m_name'] = temp_df['f_m_name'].str.strip()\n",
    "temp_df['first_name'] = temp_df['f_m_name'].str.split(' ').str.get(0)\n",
    "temp_df['middle_name'] = temp_df['f_m_name'].str.split(' ').str.get(1)\n",
    "temp_df['last_initial'] = temp_df['last_name'].str[0]\n",
    "temp_df['first_initial'] = temp_df['first_name'].str[0]\n",
    "temp_df['middle_initial'] = temp_df['middle_name'].str[0]\n",
    "\n"
   ]
  },
  {
   "cell_type": "code",
   "execution_count": 128,
   "metadata": {
    "collapsed": false
   },
   "outputs": [
    {
     "data": {
      "text/plain": [
       "(79763, 10)"
      ]
     },
     "execution_count": 128,
     "metadata": {},
     "output_type": "execute_result"
    }
   ],
   "source": [
    "temp_df.shape"
   ]
  },
  {
   "cell_type": "code",
   "execution_count": 129,
   "metadata": {
    "collapsed": false
   },
   "outputs": [],
   "source": [
    "temp_df = temp_df.merge(df_support[['is_study', 'is_comp']], left_on='pid', right_index=True)\n",
    "temp_df.drop(['f_m_name', 'pid'], axis=1, inplace=True)"
   ]
  },
  {
   "cell_type": "code",
   "execution_count": 130,
   "metadata": {
    "collapsed": false
   },
   "outputs": [
    {
     "data": {
      "text/plain": [
       "458"
      ]
     },
     "execution_count": 130,
     "metadata": {},
     "output_type": "execute_result"
    }
   ],
   "source": [
    "len(temp_df[temp_df.is_comp == 1])"
   ]
  },
  {
   "cell_type": "code",
   "execution_count": 131,
   "metadata": {
    "collapsed": false
   },
   "outputs": [
    {
     "data": {
      "text/html": [
       "<div>\n",
       "<table border=\"1\" class=\"dataframe\">\n",
       "  <thead>\n",
       "    <tr style=\"text-align: right;\">\n",
       "      <th></th>\n",
       "      <th>full_name</th>\n",
       "      <th>pi_key</th>\n",
       "      <th>last_name</th>\n",
       "      <th>first_name</th>\n",
       "      <th>middle_name</th>\n",
       "      <th>last_initial</th>\n",
       "      <th>first_initial</th>\n",
       "      <th>middle_initial</th>\n",
       "      <th>is_study</th>\n",
       "      <th>is_comp</th>\n",
       "    </tr>\n",
       "  </thead>\n",
       "  <tbody>\n",
       "    <tr>\n",
       "      <th>0</th>\n",
       "      <td>rubin, j peter</td>\n",
       "      <td>nih_7667625</td>\n",
       "      <td>rubin</td>\n",
       "      <td>j</td>\n",
       "      <td>peter</td>\n",
       "      <td>r</td>\n",
       "      <td>j</td>\n",
       "      <td>p</td>\n",
       "      <td>0</td>\n",
       "      <td>0</td>\n",
       "    </tr>\n",
       "    <tr>\n",
       "      <th>1</th>\n",
       "      <td>vaska, paul</td>\n",
       "      <td>nih_7006391</td>\n",
       "      <td>vaska</td>\n",
       "      <td>paul</td>\n",
       "      <td>NaN</td>\n",
       "      <td>v</td>\n",
       "      <td>p</td>\n",
       "      <td>NaN</td>\n",
       "      <td>0</td>\n",
       "      <td>0</td>\n",
       "    </tr>\n",
       "    <tr>\n",
       "      <th>2</th>\n",
       "      <td>bound, john</td>\n",
       "      <td>nih_10234238</td>\n",
       "      <td>bound</td>\n",
       "      <td>john</td>\n",
       "      <td>NaN</td>\n",
       "      <td>b</td>\n",
       "      <td>j</td>\n",
       "      <td>NaN</td>\n",
       "      <td>0</td>\n",
       "      <td>0</td>\n",
       "    </tr>\n",
       "    <tr>\n",
       "      <th>3</th>\n",
       "      <td>slayden, richard a</td>\n",
       "      <td>nih_7281791</td>\n",
       "      <td>slayden</td>\n",
       "      <td>richard</td>\n",
       "      <td>a</td>\n",
       "      <td>s</td>\n",
       "      <td>r</td>\n",
       "      <td>a</td>\n",
       "      <td>0</td>\n",
       "      <td>0</td>\n",
       "    </tr>\n",
       "    <tr>\n",
       "      <th>4</th>\n",
       "      <td>rossi-george, alba</td>\n",
       "      <td>nih_8691731</td>\n",
       "      <td>rossi-george</td>\n",
       "      <td>alba</td>\n",
       "      <td>NaN</td>\n",
       "      <td>r</td>\n",
       "      <td>a</td>\n",
       "      <td>NaN</td>\n",
       "      <td>0</td>\n",
       "      <td>0</td>\n",
       "    </tr>\n",
       "  </tbody>\n",
       "</table>\n",
       "</div>"
      ],
      "text/plain": [
       "            full_name        pi_key     last_name first_name middle_name  \\\n",
       "0      rubin, j peter   nih_7667625         rubin          j       peter   \n",
       "1         vaska, paul   nih_7006391         vaska       paul         NaN   \n",
       "2         bound, john  nih_10234238         bound       john         NaN   \n",
       "3  slayden, richard a   nih_7281791       slayden    richard           a   \n",
       "4  rossi-george, alba   nih_8691731  rossi-george       alba         NaN   \n",
       "\n",
       "  last_initial first_initial middle_initial  is_study  is_comp  \n",
       "0            r             j              p         0        0  \n",
       "1            v             p            NaN         0        0  \n",
       "2            b             j            NaN         0        0  \n",
       "3            s             r              a         0        0  \n",
       "4            r             a            NaN         0        0  "
      ]
     },
     "execution_count": 131,
     "metadata": {},
     "output_type": "execute_result"
    }
   ],
   "source": [
    "temp_df.head(5)"
   ]
  },
  {
   "cell_type": "code",
   "execution_count": 132,
   "metadata": {
    "collapsed": false
   },
   "outputs": [],
   "source": [
    "#create an author table\n",
    "con_analysis_db = sq.connect('nih_analyses.db')"
   ]
  },
  {
   "cell_type": "code",
   "execution_count": 133,
   "metadata": {
    "collapsed": false
   },
   "outputs": [
    {
     "data": {
      "text/plain": [
       "<sqlite3.Cursor at 0x1627f8500>"
      ]
     },
     "execution_count": 133,
     "metadata": {},
     "output_type": "execute_result"
    }
   ],
   "source": [
    "temp_df.to_sql('researcher',con_analysis_db, if_exists='replace')\n",
    "con_analysis_db.execute('create unique index pi_key_index on researcher(pi_key);')"
   ]
  },
  {
   "cell_type": "code",
   "execution_count": 134,
   "metadata": {
    "collapsed": true
   },
   "outputs": [],
   "source": [
    "df_author = temp_df"
   ]
  },
  {
   "cell_type": "markdown",
   "metadata": {},
   "source": [
    "### Create Author and Project Link table"
   ]
  },
  {
   "cell_type": "code",
   "execution_count": 135,
   "metadata": {
    "collapsed": false
   },
   "outputs": [
    {
     "data": {
      "text/plain": [
       "<sqlite3.Cursor at 0x129f60880>"
      ]
     },
     "execution_count": 135,
     "metadata": {},
     "output_type": "execute_result"
    }
   ],
   "source": [
    "temp_df = df_pid_prjnum.copy()\n",
    "temp_df['pi_key'] = 'nih' + '_' + temp_df['pid']\n",
    "temp_df.drop('pid', axis=1, inplace=True)\n",
    "temp_df.to_sql('res_prj',con_analysis_db, if_exists='replace')\n",
    "con_analysis_db.execute('create index pi_key_index_res_prj on res_prj(pi_key);')\n",
    "con_analysis_db.execute('create index prjnum_index_res_prj on res_prj(project_key);')"
   ]
  },
  {
   "cell_type": "code",
   "execution_count": 151,
   "metadata": {
    "collapsed": true
   },
   "outputs": [],
   "source": [
    "#lookup uniq project number for each author\n",
    "df_study = df_author[df_author.is_study == 1]\n",
    "df_comp = df_author[df_author.is_comp == 1]\n",
    "df_study = df_study.merge(temp_df, on='pi_key', how='left') \n",
    "df_comp = df_comp.merge(temp_df, on='pi_key', how='left') "
   ]
  },
  {
   "cell_type": "markdown",
   "metadata": {},
   "source": [
    "### Create Project and Publication Link table"
   ]
  },
  {
   "cell_type": "code",
   "execution_count": 152,
   "metadata": {
    "collapsed": false
   },
   "outputs": [],
   "source": [
    "sql = '''\n",
    "Select * \n",
    "From link\n",
    "'''\n",
    "\n",
    "df_prj_pub_link = pd.read_sql(sql, con_nih)"
   ]
  },
  {
   "cell_type": "code",
   "execution_count": 153,
   "metadata": {
    "collapsed": false
   },
   "outputs": [],
   "source": [
    "df_prj_pub_link.columns = ['publication_key' , 'project_key']"
   ]
  },
  {
   "cell_type": "code",
   "execution_count": 157,
   "metadata": {
    "collapsed": false
   },
   "outputs": [
    {
     "data": {
      "text/plain": [
       "<sqlite3.Cursor at 0x1627f8180>"
      ]
     },
     "execution_count": 157,
     "metadata": {},
     "output_type": "execute_result"
    }
   ],
   "source": [
    "df_prj_pub_link.to_sql('prj_pub',con_analysis_db, if_exists='replace')\n",
    "con_analysis_db.execute('create index prjnum_index_prj_pub on prj_pub(project_key);')\n",
    "con_analysis_db.execute('create index pubkey_index_prj_pub on prj_pub(publication_key);')"
   ]
  },
  {
   "cell_type": "code",
   "execution_count": 158,
   "metadata": {
    "collapsed": false
   },
   "outputs": [
    {
     "data": {
      "text/html": [
       "<div>\n",
       "<table border=\"1\" class=\"dataframe\">\n",
       "  <thead>\n",
       "    <tr style=\"text-align: right;\">\n",
       "      <th></th>\n",
       "      <th>publication_key</th>\n",
       "      <th>project_key</th>\n",
       "    </tr>\n",
       "  </thead>\n",
       "  <tbody>\n",
       "    <tr>\n",
       "      <th>20029</th>\n",
       "      <td>26538025</td>\n",
       "      <td>P41RR011823</td>\n",
       "    </tr>\n",
       "    <tr>\n",
       "      <th>159760</th>\n",
       "      <td>26538025</td>\n",
       "      <td>R01GM089970</td>\n",
       "    </tr>\n",
       "    <tr>\n",
       "      <th>183808</th>\n",
       "      <td>26538025</td>\n",
       "      <td>R01HL128370</td>\n",
       "    </tr>\n",
       "    <tr>\n",
       "      <th>216902</th>\n",
       "      <td>26538025</td>\n",
       "      <td>R13HL126239</td>\n",
       "    </tr>\n",
       "    <tr>\n",
       "      <th>219603</th>\n",
       "      <td>26538025</td>\n",
       "      <td>P41GM103533</td>\n",
       "    </tr>\n",
       "  </tbody>\n",
       "</table>\n",
       "</div>"
      ],
      "text/plain": [
       "        publication_key  project_key\n",
       "20029          26538025  P41RR011823\n",
       "159760         26538025  R01GM089970\n",
       "183808         26538025  R01HL128370\n",
       "216902         26538025  R13HL126239\n",
       "219603         26538025  P41GM103533"
      ]
     },
     "execution_count": 158,
     "metadata": {},
     "output_type": "execute_result"
    }
   ],
   "source": [
    "df_prj_pub_link[df_prj_pub_link.publication_key==26538025]"
   ]
  },
  {
   "cell_type": "code",
   "execution_count": 160,
   "metadata": {
    "collapsed": false
   },
   "outputs": [],
   "source": [
    "df_study = df_study.merge(df_prj_pub_link, on='project_key', how='left')\n",
    "df_comp = df_comp.merge(df_prj_pub_link, on='project_key', how='left')\n"
   ]
  },
  {
   "cell_type": "markdown",
   "metadata": {},
   "source": [
    "### Join Author with Publications"
   ]
  },
  {
   "cell_type": "code",
   "execution_count": 165,
   "metadata": {
    "collapsed": true
   },
   "outputs": [],
   "source": [
    "sql = '''\n",
    "Select * \n",
    "From publication\n",
    "'''\n",
    "df_pub = pd.read_sql(sql, con_nih)\n",
    "df_study = df_study.merge(df_pub, left_on='publication_key',  right_on='PMID', how='left')\n",
    "df_comp = df_comp.merge(df_pub, left_on='publication_key',  right_on='PMID', how='left')\n",
    "df_study.to_csv('../data/study_pub.csv', header=True, index=False)\n",
    "df_comp.to_csv('../data/comp_pub.csv', header=True, index=False)"
   ]
  },
  {
   "cell_type": "markdown",
   "metadata": {
    "collapsed": false
   },
   "source": [
    "### We uses project number to link researcher to publications.\n",
    "### Researchers may be associated with projectis, but it does not mean they are authors of those publications"
   ]
  },
  {
   "cell_type": "code",
   "execution_count": null,
   "metadata": {
    "collapsed": false
   },
   "outputs": [],
   "source": [
    "df_study = pd.read_csv('../data/study_pub.csv', header=0)\n",
    "df_comp = pd.read_csv('../data/comp_pub.csv', header=0)\n",
    "def is_author(row):\n",
    "    fn = row['first_name']\n",
    "    ln = row['last_name']\n",
    "    fn = fn.capitalize()\n",
    "    ln = ln.capitalize()\n",
    "    full_name = ln + ', ' + fn\n",
    "    authors = str(row['AUTHOR_LIST'])\n",
    "    if full_name in authors:\n",
    "        row['is_author'] = True\n",
    "    else:\n",
    "        row['is_author'] = False\n",
    "    return row\n",
    "df_study = df_study.apply(is_author, axis=1)\n",
    "df_study_author = df_study[df_study.is_author==True]\n",
    "df_comp = df_comp.apply(is_author, axis=1)\n",
    "df_comp_author = df_comp[df_comp.is_author==True]\n",
    "df_study_no_author = df_study[df_study.is_author==False]\n",
    "df_comp_no_author = df_comp[df_comp.is_author==False]\n"
   ]
  },
  {
   "cell_type": "code",
   "execution_count": 7,
   "metadata": {
    "collapsed": true
   },
   "outputs": [],
   "source": [
    "df_proj_uniq = pd.read_csv('../data/prj_attribute.csv', header=0)\n",
    "### Add some additional project attributes \n",
    "df_study_author = df_study_author.merge(df_proj_uniq, left_on='project_key', right_on='CORE_PROJECT_NUM', how='left')\n",
    "df_comp_author = df_comp_author.merge(df_proj_uniq, left_on='project_key', right_on='CORE_PROJECT_NUM', how='left')\n",
    "df_study_no_author = df_study_no_author.merge(df_proj_uniq, left_on='project_key', right_on='CORE_PROJECT_NUM', how='left')\n",
    "df_comp_no_author =df_comp_no_author.merge(df_proj_uniq, left_on='project_key', right_on='CORE_PROJECT_NUM', how='left')\n",
    "df_study_author.to_csv('../data/study_author_pub.csv', index=False, header=True)\n",
    "df_comp_author.to_csv('../data/comp_author_pub.csv', index=False, header=True)\n",
    "df_study_no_author.to_csv('../data/study_no_author_pub.csv', index=False, header=True)\n",
    "df_comp_no_author.to_csv('../data/comp_no_author_pub.csv', index=False, header=True)"
   ]
  },
  {
   "cell_type": "code",
   "execution_count": 21,
   "metadata": {
    "collapsed": false
   },
   "outputs": [
    {
     "name": "stdout",
     "output_type": "stream",
     "text": [
      "The number of study author: 487\n",
      "The number of comp author: 416\n"
     ]
    }
   ],
   "source": [
    "df_study_author_uniq = df_study_author.drop_duplicates('pi_key')\n",
    "df_study_no_author_uniq = df_study_no_author.drop_duplicates('pi_key')\n",
    "df_comp_author_uniq = df_comp_author.drop_duplicates('pi_key')\n",
    "df_comp_no_author_uniq = df_comp_no_author.drop_duplicates('pi_key')\n",
    "print('The number of study author: {0:d}'.format(len(df_study_author_uniq)))\n",
    "print('The number of comp author: {0:d}'.format(len(df_comp_author_uniq)))\n",
    "\n",
    "\n",
    "\n"
   ]
  }
 ],
 "metadata": {
  "anaconda-cloud": {},
  "kernelspec": {
   "display_name": "Python [conda root]",
   "language": "python",
   "name": "conda-root-py"
  },
  "language_info": {
   "codemirror_mode": {
    "name": "ipython",
    "version": 3
   },
   "file_extension": ".py",
   "mimetype": "text/x-python",
   "name": "python",
   "nbconvert_exporter": "python",
   "pygments_lexer": "ipython3",
   "version": "3.5.2"
  }
 },
 "nbformat": 4,
 "nbformat_minor": 1
}

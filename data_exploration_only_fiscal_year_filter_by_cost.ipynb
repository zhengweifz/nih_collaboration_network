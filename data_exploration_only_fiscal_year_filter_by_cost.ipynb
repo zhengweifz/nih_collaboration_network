{
 "cells": [
  {
   "cell_type": "code",
   "execution_count": 137,
   "metadata": {
    "collapsed": true
   },
   "outputs": [],
   "source": [
    "import pandas as pd\n",
    "import sqlite3 as sq\n",
    "from datetime import datetime\n",
    "import numpy as np\n",
    "ACF,AHRQ,ALLCDC,ATSDR,CGH,CDC,EPO,HIRP,LSPPPO,NCCDPHP,NCEZID,NCEH,NCHM,NCHS,NCHHSTP,NCIRD,NCIPC,CID,NCBDD,NIOSH,OSTLTS,OCPHP,OGDP,OHS,OID,OMH,ONDIEH,OPHPR,ODCDC,OSELS,OWH,OWCD,NCPHI,PHPPO,PHSPO,SEPDPO,HRSA,FDA,VA"
   ]
  },
  {
   "cell_type": "code",
   "execution_count": 138,
   "metadata": {
    "collapsed": true
   },
   "outputs": [],
   "source": [
    "pd.options.display.max_columns=999"
   ]
  },
  {
   "cell_type": "code",
   "execution_count": 139,
   "metadata": {
    "collapsed": false
   },
   "outputs": [],
   "source": [
    "con_nih = sq.connect('nih.db')"
   ]
  },
  {
   "cell_type": "code",
   "execution_count": 162,
   "metadata": {
    "collapsed": false
   },
   "outputs": [],
   "source": [
    "# only NIH projects\n",
    "sql = '''\n",
    "Select PI_IDS, PI_NAMEs, CORE_PROJECT_NUM, FY, ADMINISTERING_IC, TOTAL_COST, TOTAL_COST_SUB_PROJECT, ACTIVITY, FUNDING_MECHANISM\n",
    "From projects\n",
    "Where ADMINISTERING_IC in ('CC','RG', 'CIT', 'TW', 'TR', 'AT',\n",
    "    'CA', 'RR', 'EY', 'HG', 'HL', 'AG', 'AA', 'AI', 'AR', 'EB', 'HD',\n",
    "    'DA', 'DC', 'DE', 'DK', 'ES', 'GM', 'MH', 'MD', 'NS', 'NR', 'LM', 'OD' )\n",
    "'''\n",
    "df_projects = pd.read_sql(sql, con_nih)"
   ]
  },
  {
   "cell_type": "code",
   "execution_count": 163,
   "metadata": {
    "collapsed": false
   },
   "outputs": [
    {
     "data": {
      "text/plain": [
       "array(['Non-SBIR/STTR RPGs', 'TRAINING, INDIVIDUAL', 'RESEARCH CENTERS',\n",
       "       'OTHER RESEARCH-RELATED', 'TRAINING, INSTITUTIONAL',\n",
       "       'SBIR-STTR RPGs', None, 'Contracts, Extramural', 'Construction',\n",
       "       'Other Research Related', 'Research Projects',\n",
       "       'Training, Individual', 'Research Centers', 'Unknown', 'SBIR-STTR',\n",
       "       'Training, Institutional', 'Intramural Research', 'Other',\n",
       "       'Non SBIR/STTR Contracts', 'INTRAMURAL RESEARCH',\n",
       "       'INTERAGENCY AGREEMENTS', 'SBIR/STTR Contracts', 'OTHERS',\n",
       "       'CONSTRUCTION GRANTS'], dtype=object)"
      ]
     },
     "execution_count": 163,
     "metadata": {},
     "output_type": "execute_result"
    }
   ],
   "source": [
    "df_projects.FUNDING_MECHANISM.unique()"
   ]
  },
  {
   "cell_type": "code",
   "execution_count": 167,
   "metadata": {
    "collapsed": false
   },
   "outputs": [],
   "source": [
    "# Missing FUNDING_MECHANISM in Earlier Years \n",
    "# So Use activity to filter data \n",
    "research_activities = df_projects.ACTIVITY[df_projects.FUNDING_MECHANISM.isin(['RESEARCH CENTERS','Research Projects', 'Research Centers'])].unique()"
   ]
  },
  {
   "cell_type": "code",
   "execution_count": 168,
   "metadata": {
    "collapsed": true
   },
   "outputs": [],
   "source": [
    "df_projects = df_projects[df_projects.ACTIVITY.isin(research_activities)]"
   ]
  },
  {
   "cell_type": "code",
   "execution_count": 170,
   "metadata": {
    "collapsed": false
   },
   "outputs": [],
   "source": [
    "df_projects['TOTAL_COST'] = df_projects[['TOTAL_COST']].where(~df_projects['TOTAL_COST'].isnull(),0)\n",
    "df_projects['TOTAL_COST_SUB_PROJECT'] = df_projects[['TOTAL_COST_SUB_PROJECT']].where(~df_projects['TOTAL_COST_SUB_PROJECT'].isnull(),0)\n",
    "df_projects['TOTAL_COST']  = df_projects['TOTAL_COST'] + df_projects['TOTAL_COST_SUB_PROJECT']\n",
    "#df_projects = df_projects[df_projects.TOTAL_COST >= 50000]\n",
    "#only look at 2001-2015\n",
    "before_2001 = df_projects['FY'] < 2001\n",
    "after_2015  = df_projects['FY'] > 2015\n",
    "df_projects = df_projects[(~before_2001) & (~after_2015)]"
   ]
  },
  {
   "cell_type": "markdown",
   "metadata": {
    "collapsed": false
   },
   "source": [
    "#### Retrieve each indiviual pid"
   ]
  },
  {
   "cell_type": "code",
   "execution_count": 173,
   "metadata": {
    "collapsed": false
   },
   "outputs": [
    {
     "name": "stderr",
     "output_type": "stream",
     "text": [
      "/Users/weizheng/anaconda/lib/python3.5/site-packages/pandas/core/generic.py:4485: SettingWithCopyWarning: \n",
      "A value is trying to be set on a copy of a slice from a DataFrame\n",
      "\n",
      "See the caveats in the documentation: http://pandas.pydata.org/pandas-docs/stable/indexing.html#indexing-view-versus-copy\n",
      "  self._update_inplace(new_data)\n"
     ]
    },
    {
     "data": {
      "text/plain": [
       "array(['others', 'GM'], dtype=object)"
      ]
     },
     "execution_count": 173,
     "metadata": {},
     "output_type": "execute_result"
    }
   ],
   "source": [
    "df_temp = df_projects[['PI_IDS','PI_NAMEs','CORE_PROJECT_NUM', 'FY', 'ADMINISTERING_IC', 'TOTAL_COST']]\n",
    "df_temp.ADMINISTERING_IC.where(df_temp.ADMINISTERING_IC == 'GM', 'others', inplace=True)\n",
    "df_temp.ADMINISTERING_IC.where(df_temp.ADMINISTERING_IC == 'others', 'GM', inplace=True)\n",
    "df_temp.ADMINISTERING_IC.unique()"
   ]
  },
  {
   "cell_type": "code",
   "execution_count": 174,
   "metadata": {
    "collapsed": false
   },
   "outputs": [],
   "source": [
    "#create pid and name pairs\n",
    "vals = df_temp.values;\n",
    "rows, cols = vals.shape\n",
    "p_ids = []\n",
    "p_names = []\n",
    "p_nums = []\n",
    "fys = []\n",
    "ics = []\n",
    "costs = []\n",
    "#grab each pid from the ';' separated strings\n",
    "for i in range(0,rows):\n",
    "    if vals[i, 0] is not None and vals[i, 1] is not None:\n",
    "        ids = vals[i, 0].strip().split(';')\n",
    "        names = vals[i,1].strip().split(';')\n",
    "        ids.pop()\n",
    "        names.pop()\n",
    "        if len(ids) == len(names):\n",
    "            #if there are more than one pid, take primary contact\n",
    "            if len(ids) == 1:\n",
    "                ids = [d.strip() for d in ids ]\n",
    "                names = [n.strip() for n in names]\n",
    "            else:\n",
    "                #ids = [d.replace(' (contact)', '').strip() for d in ids if '(contact)'   in d]\n",
    "                #names = [n.replace(' (contact)', '').strip() for n in names if '(contact)' in n]\n",
    "                ids = [d.replace(' (contact)', '').strip() for d in ids ]\n",
    "                names = [n.replace(' (contact)', '').strip() for n in names]\n",
    "            p_num = vals[i,2]\n",
    "            fy = vals[i,3]\n",
    "            ic = vals[i,4]\n",
    "            cost = vals[i,5]\n",
    "            p_ids.extend(ids)\n",
    "            p_names.extend(names)\n",
    "            p_nums.extend([str(p_num)] * len(ids))\n",
    "            fys.extend([fy] * len(ids))\n",
    "            ics.extend([ic] * len(ids))\n",
    "            costs.extend([cost /  len(ids)] * len(ids))\n"
   ]
  },
  {
   "cell_type": "code",
   "execution_count": 175,
   "metadata": {
    "collapsed": true
   },
   "outputs": [],
   "source": [
    "data = {\n",
    "    \"pid\": p_ids,\n",
    "    \"p_names\": p_names,\n",
    "    \"p_nums\": p_nums,\n",
    "    \"fys\" : fys,\n",
    "    \"ics\" : ics,\n",
    "    \"costs\" : costs\n",
    "}\n",
    "df_temp = pd.DataFrame(data)"
   ]
  },
  {
   "cell_type": "code",
   "execution_count": 176,
   "metadata": {
    "collapsed": false
   },
   "outputs": [
    {
     "data": {
      "text/plain": [
       "(903129, 6)"
      ]
     },
     "execution_count": 176,
     "metadata": {},
     "output_type": "execute_result"
    }
   ],
   "source": [
    "df_temp.shape"
   ]
  },
  {
   "cell_type": "code",
   "execution_count": 177,
   "metadata": {
    "collapsed": false
   },
   "outputs": [],
   "source": [
    "df_cost = df_temp[['pid', 'fys', 'costs']]\n",
    "df_pid_costsum_by_year = df_cost.groupby(['pid','fys']).sum()\n",
    "df_pid_costsum_by_year.reset_index(inplace=True)\n",
    "df_pid_costsum_by_year = df_pid_costsum_by_year[df_pid_costsum_by_year.costs >= 50000]\n",
    "df_pid_costsum_by_year = df_pid_costsum_by_year[df_pid_costsum_by_year.pid !='']"
   ]
  },
  {
   "cell_type": "code",
   "execution_count": 178,
   "metadata": {
    "collapsed": false
   },
   "outputs": [
    {
     "data": {
      "text/plain": [
       "(467505, 3)"
      ]
     },
     "execution_count": 178,
     "metadata": {},
     "output_type": "execute_result"
    }
   ],
   "source": [
    "df_pid_costsum_by_year.shape"
   ]
  },
  {
   "cell_type": "code",
   "execution_count": 179,
   "metadata": {
    "collapsed": false
   },
   "outputs": [
    {
     "data": {
      "text/html": [
       "<div>\n",
       "<table border=\"1\" class=\"dataframe\">\n",
       "  <thead>\n",
       "    <tr style=\"text-align: right;\">\n",
       "      <th></th>\n",
       "      <th>pid</th>\n",
       "      <th>fys</th>\n",
       "      <th>costs</th>\n",
       "    </tr>\n",
       "  </thead>\n",
       "  <tbody>\n",
       "    <tr>\n",
       "      <th>4</th>\n",
       "      <td>10000396</td>\n",
       "      <td>2010</td>\n",
       "      <td>125610.0</td>\n",
       "    </tr>\n",
       "    <tr>\n",
       "      <th>5</th>\n",
       "      <td>10000396</td>\n",
       "      <td>2011</td>\n",
       "      <td>142429.0</td>\n",
       "    </tr>\n",
       "    <tr>\n",
       "      <th>6</th>\n",
       "      <td>10000396</td>\n",
       "      <td>2012</td>\n",
       "      <td>154636.0</td>\n",
       "    </tr>\n",
       "    <tr>\n",
       "      <th>7</th>\n",
       "      <td>10000396</td>\n",
       "      <td>2013</td>\n",
       "      <td>151791.0</td>\n",
       "    </tr>\n",
       "    <tr>\n",
       "      <th>8</th>\n",
       "      <td>10000396</td>\n",
       "      <td>2014</td>\n",
       "      <td>128800.0</td>\n",
       "    </tr>\n",
       "  </tbody>\n",
       "</table>\n",
       "</div>"
      ],
      "text/plain": [
       "        pid   fys     costs\n",
       "4  10000396  2010  125610.0\n",
       "5  10000396  2011  142429.0\n",
       "6  10000396  2012  154636.0\n",
       "7  10000396  2013  151791.0\n",
       "8  10000396  2014  128800.0"
      ]
     },
     "execution_count": 179,
     "metadata": {},
     "output_type": "execute_result"
    }
   ],
   "source": [
    "df_pid_costsum_by_year.head(5)"
   ]
  },
  {
   "cell_type": "code",
   "execution_count": 180,
   "metadata": {
    "collapsed": false
   },
   "outputs": [
    {
     "data": {
      "text/html": [
       "<div>\n",
       "<table border=\"1\" class=\"dataframe\">\n",
       "  <thead>\n",
       "    <tr style=\"text-align: right;\">\n",
       "      <th></th>\n",
       "      <th>costs</th>\n",
       "      <th>fys</th>\n",
       "      <th>ics</th>\n",
       "      <th>p_names</th>\n",
       "      <th>p_nums</th>\n",
       "      <th>pid</th>\n",
       "    </tr>\n",
       "  </thead>\n",
       "  <tbody>\n",
       "    <tr>\n",
       "      <th>0</th>\n",
       "      <td>174299.0</td>\n",
       "      <td>2015</td>\n",
       "      <td>others</td>\n",
       "      <td>LIU, SHAN-LU</td>\n",
       "      <td>R21AI109464</td>\n",
       "      <td>10637051</td>\n",
       "    </tr>\n",
       "    <tr>\n",
       "      <th>1</th>\n",
       "      <td>25000.0</td>\n",
       "      <td>2014</td>\n",
       "      <td>others</td>\n",
       "      <td>NAJJAR, SONIA M.</td>\n",
       "      <td>R01DK054254</td>\n",
       "      <td>1936803</td>\n",
       "    </tr>\n",
       "    <tr>\n",
       "      <th>2</th>\n",
       "      <td>7082.5</td>\n",
       "      <td>2015</td>\n",
       "      <td>others</td>\n",
       "      <td>NAVAS-ACIEN, ANA</td>\n",
       "      <td>R01ES021367</td>\n",
       "      <td>8696712</td>\n",
       "    </tr>\n",
       "    <tr>\n",
       "      <th>3</th>\n",
       "      <td>7082.5</td>\n",
       "      <td>2015</td>\n",
       "      <td>others</td>\n",
       "      <td>VAIDYA, DHANANJAY MADHUKAR</td>\n",
       "      <td>R01ES021367</td>\n",
       "      <td>8656693</td>\n",
       "    </tr>\n",
       "    <tr>\n",
       "      <th>4</th>\n",
       "      <td>349856.0</td>\n",
       "      <td>2015</td>\n",
       "      <td>others</td>\n",
       "      <td>WILLIAMS, TYISHA</td>\n",
       "      <td>R15NS084329</td>\n",
       "      <td>14584389</td>\n",
       "    </tr>\n",
       "  </tbody>\n",
       "</table>\n",
       "</div>"
      ],
      "text/plain": [
       "      costs   fys     ics                     p_names       p_nums       pid\n",
       "0  174299.0  2015  others                LIU, SHAN-LU  R21AI109464  10637051\n",
       "1   25000.0  2014  others            NAJJAR, SONIA M.  R01DK054254   1936803\n",
       "2    7082.5  2015  others            NAVAS-ACIEN, ANA  R01ES021367   8696712\n",
       "3    7082.5  2015  others  VAIDYA, DHANANJAY MADHUKAR  R01ES021367   8656693\n",
       "4  349856.0  2015  others            WILLIAMS, TYISHA  R15NS084329  14584389"
      ]
     },
     "execution_count": 180,
     "metadata": {},
     "output_type": "execute_result"
    }
   ],
   "source": [
    "df_temp.head(5)"
   ]
  },
  {
   "cell_type": "markdown",
   "metadata": {},
   "source": [
    "#### Take out researchers who have supports less than $50000 per year"
   ]
  },
  {
   "cell_type": "code",
   "execution_count": 181,
   "metadata": {
    "collapsed": false
   },
   "outputs": [],
   "source": [
    "df_temp = df_temp[df_temp.pid.isin(df_pid_costsum_by_year.pid)]"
   ]
  },
  {
   "cell_type": "code",
   "execution_count": 182,
   "metadata": {
    "collapsed": true
   },
   "outputs": [],
   "source": [
    "p_ids = list(df_temp.pid)\n",
    "p_names = list(df_temp.p_names)\n",
    "p_nums = list(df_temp.p_nums)\n",
    "fys = list(df_temp.fys)\n",
    "ics = list(df_temp.ics)"
   ]
  },
  {
   "cell_type": "code",
   "execution_count": 183,
   "metadata": {
    "collapsed": false
   },
   "outputs": [],
   "source": [
    "def getUniqDF(arrayList):\n",
    "    #taking equal-length arrays, create  unique combinations\n",
    "    cs = ['_'.join([str(a) for a in A]) for A in zip(*arrayList)]\n",
    "    uniq_comb = list(set(cs))\n",
    "    a_len = len(arrayList)\n",
    "    outputs = [];\n",
    "    for i in range(a_len):\n",
    "        outputs.append([])\n",
    "    #unique combinations\n",
    "    for c in uniq_comb:\n",
    "        s = c.split('_')\n",
    "        for si in range(a_len):\n",
    "            outputs[si].append(s[si])\n",
    "    return(outputs)\n",
    "# pid and names\n",
    "uniq_pids, uniq_names = getUniqDF([p_ids, p_names])\n",
    "df_pid_name = pd.DataFrame({'pid': uniq_pids, 'full_name':uniq_names})\n",
    "\n",
    "# pids and project number\n",
    "pid4num, uniq_prjnum = getUniqDF([p_ids, p_nums])\n",
    "df_pid_prjnum = pd.DataFrame({'pid': pid4num, 'project_key':uniq_prjnum})\n",
    "\n",
    "# pids, fy, and ic\n",
    "pid4fy, fys_support, ics_support = getUniqDF([p_ids, fys, ics])   \n",
    "df_pid_fy_ic = pd.DataFrame({'pid': pid4fy, 'fy':fys_support, 'ic': ics_support })\n",
    "\n"
   ]
  },
  {
   "cell_type": "code",
   "execution_count": 189,
   "metadata": {
    "collapsed": false
   },
   "outputs": [],
   "source": [
    "#calculate years of support \n",
    "df_pid_fy_ic['val'] = 1\n",
    "df_sum = df_pid_fy_ic[['pid', 'ic', 'val']]\n",
    "df_support = df_sum.pivot_table(columns='ic', index='pid', values='val', aggfunc='sum')\n",
    "df_support.columns = ['nigms_years', 'others_years']\n",
    "df_support['nih_years'] =  df_support[['nigms_years', 'others_years']].apply(np.max, axis=1)\n",
    "\n"
   ]
  },
  {
   "cell_type": "code",
   "execution_count": 190,
   "metadata": {
    "collapsed": false
   },
   "outputs": [
    {
     "data": {
      "text/html": [
       "<div>\n",
       "<table border=\"1\" class=\"dataframe\">\n",
       "  <thead>\n",
       "    <tr style=\"text-align: right;\">\n",
       "      <th></th>\n",
       "      <th>nigms_years</th>\n",
       "      <th>others_years</th>\n",
       "      <th>nih_years</th>\n",
       "    </tr>\n",
       "    <tr>\n",
       "      <th>pid</th>\n",
       "      <th></th>\n",
       "      <th></th>\n",
       "      <th></th>\n",
       "    </tr>\n",
       "  </thead>\n",
       "  <tbody>\n",
       "    <tr>\n",
       "      <th>10000396</th>\n",
       "      <td>NaN</td>\n",
       "      <td>5.0</td>\n",
       "      <td>5.0</td>\n",
       "    </tr>\n",
       "    <tr>\n",
       "      <th>10000490</th>\n",
       "      <td>NaN</td>\n",
       "      <td>2.0</td>\n",
       "      <td>2.0</td>\n",
       "    </tr>\n",
       "    <tr>\n",
       "      <th>10001078</th>\n",
       "      <td>NaN</td>\n",
       "      <td>3.0</td>\n",
       "      <td>3.0</td>\n",
       "    </tr>\n",
       "    <tr>\n",
       "      <th>10001128</th>\n",
       "      <td>NaN</td>\n",
       "      <td>1.0</td>\n",
       "      <td>1.0</td>\n",
       "    </tr>\n",
       "    <tr>\n",
       "      <th>10001159</th>\n",
       "      <td>NaN</td>\n",
       "      <td>1.0</td>\n",
       "      <td>1.0</td>\n",
       "    </tr>\n",
       "  </tbody>\n",
       "</table>\n",
       "</div>"
      ],
      "text/plain": [
       "          nigms_years  others_years  nih_years\n",
       "pid                                           \n",
       "10000396          NaN           5.0        5.0\n",
       "10000490          NaN           2.0        2.0\n",
       "10001078          NaN           3.0        3.0\n",
       "10001128          NaN           1.0        1.0\n",
       "10001159          NaN           1.0        1.0"
      ]
     },
     "execution_count": 190,
     "metadata": {},
     "output_type": "execute_result"
    }
   ],
   "source": [
    "df_support.head(5)"
   ]
  },
  {
   "cell_type": "markdown",
   "metadata": {},
   "source": [
    "### NIGMS researchers"
   ]
  },
  {
   "cell_type": "code",
   "execution_count": 191,
   "metadata": {
    "collapsed": false
   },
   "outputs": [],
   "source": [
    "#definition of continually supported\n",
    "nigms_inds = df_support.nigms_years>1\n",
    "nigms_contin_inds = df_support.nigms_years==15\n",
    "nih_contin_inds = (df_support.nih_years==15) & (df_support.nigms_years > 1)\n",
    "df_support['is_study'] = 0\n",
    "df_support['is_comp'] = 0\n",
    "df_support['is_nigms'] = 0\n",
    "df_support.ix[nigms_contin_inds, 'is_study' ] = 1\n",
    "df_support.ix[nih_contin_inds & (~nigms_contin_inds), 'is_comp' ] = 1\n",
    "df_support.ix[nigms_inds, 'is_nigms'] = 1"
   ]
  },
  {
   "cell_type": "code",
   "execution_count": 192,
   "metadata": {
    "collapsed": false
   },
   "outputs": [
    {
     "data": {
      "text/plain": [
       "Index(['10008168', '10010745', '10010983', '10011950', '10021299', '10028321',\n",
       "       '10036621', '10039101', '10058046', '10058461',\n",
       "       ...\n",
       "       '9971733', '9974889', '9983921', '9984179', '9985280', '9987162',\n",
       "       '9996634', '9996881', '9997153', '9997198'],\n",
       "      dtype='object', name='pid', length=8665)"
      ]
     },
     "execution_count": 192,
     "metadata": {},
     "output_type": "execute_result"
    }
   ],
   "source": [
    "df_support[nigms_inds].index"
   ]
  },
  {
   "cell_type": "code",
   "execution_count": 193,
   "metadata": {
    "collapsed": false
   },
   "outputs": [
    {
     "data": {
      "text/plain": [
       "8665"
      ]
     },
     "execution_count": 193,
     "metadata": {},
     "output_type": "execute_result"
    }
   ],
   "source": [
    "len(df_support[nigms_inds]) "
   ]
  },
  {
   "cell_type": "markdown",
   "metadata": {},
   "source": [
    "#### Continually Supported by NIGMS"
   ]
  },
  {
   "cell_type": "code",
   "execution_count": 197,
   "metadata": {
    "collapsed": false
   },
   "outputs": [
    {
     "data": {
      "text/plain": [
       "523"
      ]
     },
     "execution_count": 197,
     "metadata": {},
     "output_type": "execute_result"
    }
   ],
   "source": [
    "len(df_support.ix[nigms_contin_inds, 'is_study' ])"
   ]
  },
  {
   "cell_type": "markdown",
   "metadata": {},
   "source": [
    "#### Researchers who were continually supported by NIH"
   ]
  },
  {
   "cell_type": "code",
   "execution_count": 198,
   "metadata": {
    "collapsed": false
   },
   "outputs": [
    {
     "data": {
      "text/plain": [
       "458"
      ]
     },
     "execution_count": 198,
     "metadata": {},
     "output_type": "execute_result"
    }
   ],
   "source": [
    "len(df_support.ix[nih_contin_inds & (~nigms_contin_inds), 'is_comp' ])"
   ]
  },
  {
   "cell_type": "markdown",
   "metadata": {},
   "source": [
    "### Compare with Andrew pids"
   ]
  },
  {
   "cell_type": "code",
   "execution_count": 207,
   "metadata": {
    "collapsed": false
   },
   "outputs": [
    {
     "data": {
      "text/plain": [
       "0      1852587\n",
       "1      1857694\n",
       "2      1858017\n",
       "3      1858018\n",
       "4      1858025\n",
       "5      1858106\n",
       "6      1858378\n",
       "7      1858379\n",
       "8      1858393\n",
       "9      1858403\n",
       "10     1858404\n",
       "11     1858415\n",
       "12     1858679\n",
       "13     1858704\n",
       "14     1858903\n",
       "15     1858963\n",
       "16     1859098\n",
       "17     1859360\n",
       "18     1859365\n",
       "19     1859377\n",
       "20     1859694\n",
       "21     1860024\n",
       "22     1860213\n",
       "23     1860225\n",
       "24     1860231\n",
       "25     1860244\n",
       "26     1860696\n",
       "27     1860709\n",
       "28     1860711\n",
       "29     1860974\n",
       "        ...   \n",
       "914    1902025\n",
       "915    1928546\n",
       "916    1938841\n",
       "917    2076451\n",
       "918    6214835\n",
       "919    1857799\n",
       "920    1858913\n",
       "921    1860214\n",
       "922    1860612\n",
       "923    1860763\n",
       "924    1862872\n",
       "925    1863274\n",
       "926    1863500\n",
       "927    1864449\n",
       "928    1877969\n",
       "929    1882172\n",
       "930    1883032\n",
       "931    1883263\n",
       "932    1884515\n",
       "933    1885202\n",
       "934    1885388\n",
       "935    1889277\n",
       "936    1896344\n",
       "937    1896522\n",
       "938    1897376\n",
       "939    1901968\n",
       "940    1946799\n",
       "941    2072820\n",
       "942    6611541\n",
       "943    7354240\n",
       "Name: ﻿PI_IDS, dtype: int64"
      ]
     },
     "execution_count": 207,
     "metadata": {},
     "output_type": "execute_result"
    }
   ],
   "source": [
    "andrew_df.iloc[:,0]"
   ]
  },
  {
   "cell_type": "code",
   "execution_count": 211,
   "metadata": {
    "collapsed": false
   },
   "outputs": [],
   "source": [
    "study_set = set(df_support.ix[nigms_contin_inds, 'is_study' ].index)\n",
    "comp_set = set(df_support.ix[nih_contin_inds & (~nigms_contin_inds), 'is_comp' ].index) \n",
    "whole_set = study_set | comp_set\n",
    "andrew_df = pd.read_csv('./data/andrew_pids.csv', header =0)\n",
    "andrew_df = andrew_df.applymap(str)\n",
    "andrew_set = set(andrew_df.iloc[:,0].values)"
   ]
  },
  {
   "cell_type": "code",
   "execution_count": 212,
   "metadata": {
    "collapsed": false
   },
   "outputs": [
    {
     "data": {
      "text/plain": [
       "272"
      ]
     },
     "execution_count": 212,
     "metadata": {},
     "output_type": "execute_result"
    }
   ],
   "source": [
    "our_notin_andrew = (whole_set - andrew_set)\n",
    "len(ours_notin_andrew)"
   ]
  },
  {
   "cell_type": "code",
   "execution_count": 214,
   "metadata": {
    "collapsed": false
   },
   "outputs": [
    {
     "data": {
      "text/plain": [
       "235"
      ]
     },
     "execution_count": 214,
     "metadata": {},
     "output_type": "execute_result"
    }
   ],
   "source": [
    "andrew_notin_ours = andrew_set - whole_set\n",
    "len(andrew_notin_ours)"
   ]
  },
  {
   "cell_type": "code",
   "execution_count": 215,
   "metadata": {
    "collapsed": false
   },
   "outputs": [
    {
     "data": {
      "text/plain": [
       "709"
      ]
     },
     "execution_count": 215,
     "metadata": {},
     "output_type": "execute_result"
    }
   ],
   "source": [
    "join_set = whole_set & andrew_set\n",
    "len(join_set)"
   ]
  },
  {
   "cell_type": "markdown",
   "metadata": {},
   "source": [
    "### Create Author Table"
   ]
  },
  {
   "cell_type": "code",
   "execution_count": 216,
   "metadata": {
    "collapsed": true
   },
   "outputs": [],
   "source": [
    "df_pid_name.drop_duplicates(['pid'], inplace=True)\n",
    "df_pid_name = df_pid_name[~df_pid_name.pid.isnull()]\n",
    "df_pid_name = df_pid_name[df_pid_name.full_name != 'WEDEN, MARGARET']"
   ]
  },
  {
   "cell_type": "code",
   "execution_count": 217,
   "metadata": {
    "collapsed": false
   },
   "outputs": [],
   "source": [
    "temp_df = df_pid_name.copy()\n",
    "temp_df['pi_key'] = 'nih'+'_'+ temp_df['pid']\n",
    "temp_df['full_name'] = temp_df['full_name'].str.lower()\n",
    "temp_df['last_name'] = temp_df['full_name'].str.split(',').str.get(0)\n",
    "temp_df['f_m_name'] = temp_df['full_name'].str.split(',').str.get(1)\n",
    "temp_df['f_m_name'] = temp_df['f_m_name'].str.strip()\n",
    "temp_df['first_name'] = temp_df['f_m_name'].str.split(' ').str.get(0)\n",
    "temp_df['middle_name'] = temp_df['f_m_name'].str.split(' ').str.get(1)\n",
    "temp_df['last_initial'] = temp_df['last_name'].str[0]\n",
    "temp_df['first_initial'] = temp_df['first_name'].str[0]\n",
    "temp_df['middle_initial'] = temp_df['middle_name'].str[0]\n",
    "\n"
   ]
  },
  {
   "cell_type": "code",
   "execution_count": 219,
   "metadata": {
    "collapsed": false
   },
   "outputs": [
    {
     "data": {
      "text/plain": [
       "(79763, 10)"
      ]
     },
     "execution_count": 219,
     "metadata": {},
     "output_type": "execute_result"
    }
   ],
   "source": [
    "temp_df.shape"
   ]
  },
  {
   "cell_type": "code",
   "execution_count": 220,
   "metadata": {
    "collapsed": false
   },
   "outputs": [],
   "source": [
    "temp_df = temp_df.merge(df_support[['is_study', 'is_comp']], left_on='pid', right_index=True)\n",
    "temp_df.drop(['f_m_name', 'pid'], axis=1, inplace=True)"
   ]
  },
  {
   "cell_type": "code",
   "execution_count": 222,
   "metadata": {
    "collapsed": false
   },
   "outputs": [
    {
     "data": {
      "text/plain": [
       "458"
      ]
     },
     "execution_count": 222,
     "metadata": {},
     "output_type": "execute_result"
    }
   ],
   "source": [
    "len(temp_df[temp_df.is_comp == 1])"
   ]
  },
  {
   "cell_type": "code",
   "execution_count": 224,
   "metadata": {
    "collapsed": false
   },
   "outputs": [
    {
     "data": {
      "text/html": [
       "<div>\n",
       "<table border=\"1\" class=\"dataframe\">\n",
       "  <thead>\n",
       "    <tr style=\"text-align: right;\">\n",
       "      <th></th>\n",
       "      <th>full_name</th>\n",
       "      <th>pi_key</th>\n",
       "      <th>last_name</th>\n",
       "      <th>first_name</th>\n",
       "      <th>middle_name</th>\n",
       "      <th>last_initial</th>\n",
       "      <th>first_initial</th>\n",
       "      <th>middle_initial</th>\n",
       "      <th>is_study</th>\n",
       "      <th>is_comp</th>\n",
       "    </tr>\n",
       "  </thead>\n",
       "  <tbody>\n",
       "    <tr>\n",
       "      <th>0</th>\n",
       "      <td>weisman, lois s</td>\n",
       "      <td>nih_1881574</td>\n",
       "      <td>weisman</td>\n",
       "      <td>lois</td>\n",
       "      <td>s</td>\n",
       "      <td>w</td>\n",
       "      <td>l</td>\n",
       "      <td>s</td>\n",
       "      <td>1</td>\n",
       "      <td>0</td>\n",
       "    </tr>\n",
       "    <tr>\n",
       "      <th>1</th>\n",
       "      <td>herman, tory g</td>\n",
       "      <td>nih_1952753</td>\n",
       "      <td>herman</td>\n",
       "      <td>tory</td>\n",
       "      <td>g</td>\n",
       "      <td>h</td>\n",
       "      <td>t</td>\n",
       "      <td>g</td>\n",
       "      <td>0</td>\n",
       "      <td>0</td>\n",
       "    </tr>\n",
       "    <tr>\n",
       "      <th>2</th>\n",
       "      <td>willcox, donald craig</td>\n",
       "      <td>nih_8942365</td>\n",
       "      <td>willcox</td>\n",
       "      <td>donald</td>\n",
       "      <td>craig</td>\n",
       "      <td>w</td>\n",
       "      <td>d</td>\n",
       "      <td>c</td>\n",
       "      <td>0</td>\n",
       "      <td>0</td>\n",
       "    </tr>\n",
       "    <tr>\n",
       "      <th>3</th>\n",
       "      <td>van der water, judy</td>\n",
       "      <td>nih_7004345</td>\n",
       "      <td>van der water</td>\n",
       "      <td>judy</td>\n",
       "      <td>NaN</td>\n",
       "      <td>v</td>\n",
       "      <td>j</td>\n",
       "      <td>NaN</td>\n",
       "      <td>0</td>\n",
       "      <td>0</td>\n",
       "    </tr>\n",
       "    <tr>\n",
       "      <th>4</th>\n",
       "      <td>lombard, julian h</td>\n",
       "      <td>nih_3318913</td>\n",
       "      <td>lombard</td>\n",
       "      <td>julian</td>\n",
       "      <td>h</td>\n",
       "      <td>l</td>\n",
       "      <td>j</td>\n",
       "      <td>h</td>\n",
       "      <td>0</td>\n",
       "      <td>0</td>\n",
       "    </tr>\n",
       "  </tbody>\n",
       "</table>\n",
       "</div>"
      ],
      "text/plain": [
       "               full_name       pi_key      last_name first_name middle_name  \\\n",
       "0        weisman, lois s  nih_1881574        weisman       lois           s   \n",
       "1         herman, tory g  nih_1952753         herman       tory           g   \n",
       "2  willcox, donald craig  nih_8942365        willcox     donald       craig   \n",
       "3    van der water, judy  nih_7004345  van der water       judy         NaN   \n",
       "4      lombard, julian h  nih_3318913        lombard     julian           h   \n",
       "\n",
       "  last_initial first_initial middle_initial  is_study  is_comp  \n",
       "0            w             l              s         1        0  \n",
       "1            h             t              g         0        0  \n",
       "2            w             d              c         0        0  \n",
       "3            v             j            NaN         0        0  \n",
       "4            l             j              h         0        0  "
      ]
     },
     "execution_count": 224,
     "metadata": {},
     "output_type": "execute_result"
    }
   ],
   "source": [
    "temp_df.head(5)"
   ]
  },
  {
   "cell_type": "code",
   "execution_count": 225,
   "metadata": {
    "collapsed": false
   },
   "outputs": [],
   "source": [
    "#create an author table\n",
    "con_analysis_db = sq.connect('nih_analyses.db')"
   ]
  },
  {
   "cell_type": "code",
   "execution_count": 226,
   "metadata": {
    "collapsed": false
   },
   "outputs": [
    {
     "data": {
      "text/plain": [
       "<sqlite3.Cursor at 0x12e6dd180>"
      ]
     },
     "execution_count": 226,
     "metadata": {},
     "output_type": "execute_result"
    }
   ],
   "source": [
    "temp_df.to_sql('researcher',con_analysis_db, if_exists='replace')\n",
    "con_analysis_db.execute('create unique index pi_key_index on researcher(pi_key);')"
   ]
  },
  {
   "cell_type": "code",
   "execution_count": 227,
   "metadata": {
    "collapsed": true
   },
   "outputs": [],
   "source": [
    "df_author = temp_df"
   ]
  },
  {
   "cell_type": "markdown",
   "metadata": {},
   "source": [
    "### Create Author and Project Link table"
   ]
  },
  {
   "cell_type": "code",
   "execution_count": 228,
   "metadata": {
    "collapsed": false
   },
   "outputs": [
    {
     "data": {
      "text/plain": [
       "<sqlite3.Cursor at 0x12fb8b810>"
      ]
     },
     "execution_count": 228,
     "metadata": {},
     "output_type": "execute_result"
    }
   ],
   "source": [
    "temp_df = df_pid_prjnum.copy()\n",
    "temp_df['pi_key'] = 'nih' + '_' + temp_df['pid']\n",
    "temp_df.drop('pid', axis=1, inplace=True)\n",
    "temp_df.to_sql('res_prj',con_analysis_db, if_exists='replace')\n",
    "con_analysis_db.execute('create index pi_key_index_res_prj on res_prj(pi_key);')\n",
    "con_analysis_db.execute('create index prjnum_index_res_prj on res_prj(project_key);')"
   ]
  },
  {
   "cell_type": "code",
   "execution_count": 229,
   "metadata": {
    "collapsed": false
   },
   "outputs": [
    {
     "data": {
      "text/html": [
       "<div>\n",
       "<table border=\"1\" class=\"dataframe\">\n",
       "  <thead>\n",
       "    <tr style=\"text-align: right;\">\n",
       "      <th></th>\n",
       "      <th>project_key</th>\n",
       "      <th>pi_key</th>\n",
       "    </tr>\n",
       "  </thead>\n",
       "  <tbody>\n",
       "    <tr>\n",
       "      <th>0</th>\n",
       "      <td>R01CA193994</td>\n",
       "      <td>nih_6377535</td>\n",
       "    </tr>\n",
       "    <tr>\n",
       "      <th>1</th>\n",
       "      <td>P01HL060898</td>\n",
       "      <td>nih_8227165</td>\n",
       "    </tr>\n",
       "    <tr>\n",
       "      <th>2</th>\n",
       "      <td>R01HG004962</td>\n",
       "      <td>nih_7612243</td>\n",
       "    </tr>\n",
       "    <tr>\n",
       "      <th>3</th>\n",
       "      <td>R01HL092121</td>\n",
       "      <td>nih_2787948</td>\n",
       "    </tr>\n",
       "    <tr>\n",
       "      <th>4</th>\n",
       "      <td>M01RR000827</td>\n",
       "      <td>nih_1876331</td>\n",
       "    </tr>\n",
       "  </tbody>\n",
       "</table>\n",
       "</div>"
      ],
      "text/plain": [
       "   project_key       pi_key\n",
       "0  R01CA193994  nih_6377535\n",
       "1  P01HL060898  nih_8227165\n",
       "2  R01HG004962  nih_7612243\n",
       "3  R01HL092121  nih_2787948\n",
       "4  M01RR000827  nih_1876331"
      ]
     },
     "execution_count": 229,
     "metadata": {},
     "output_type": "execute_result"
    }
   ],
   "source": [
    "temp_df.head(5)"
   ]
  },
  {
   "cell_type": "code",
   "execution_count": 234,
   "metadata": {
    "collapsed": true
   },
   "outputs": [],
   "source": [
    "df_study = df_author[df_author.is_study == 1]\n",
    "df_comp = df_author[df_author.is_comp == 1]\n",
    "df_study = df_study.merge(temp_df, on='pi_key', how='left') \n",
    "df_comp = df_comp.merge(temp_df, on='pi_key', how='left') "
   ]
  },
  {
   "cell_type": "markdown",
   "metadata": {},
   "source": [
    "### Create Project and Publication Link table"
   ]
  },
  {
   "cell_type": "code",
   "execution_count": 134,
   "metadata": {
    "collapsed": false
   },
   "outputs": [],
   "source": [
    "sql = '''\n",
    "Select * \n",
    "From link\n",
    "'''\n",
    "\n",
    "df_prj_pub_link = pd.read_sql(sql, con_nih)"
   ]
  },
  {
   "cell_type": "code",
   "execution_count": 135,
   "metadata": {
    "collapsed": false
   },
   "outputs": [],
   "source": [
    "df_prj_pub_link.columns = ['publication_key' , 'project_key']"
   ]
  },
  {
   "cell_type": "code",
   "execution_count": 136,
   "metadata": {
    "collapsed": false
   },
   "outputs": [
    {
     "data": {
      "text/plain": [
       "<sqlite3.Cursor at 0x2231c5260>"
      ]
     },
     "execution_count": 136,
     "metadata": {},
     "output_type": "execute_result"
    }
   ],
   "source": [
    "df_prj_pub_link.to_sql('prj_pub',con_analysis_db, if_exists='replace')\n",
    "con_analysis_db.execute('create index prjnum_index_prj_pub on prj_pub(project_key);')\n",
    "con_analysis_db.execute('create index pubkey_index_prj_pub on prj_pub(publication_key);')"
   ]
  },
  {
   "cell_type": "code",
   "execution_count": 239,
   "metadata": {
    "collapsed": false
   },
   "outputs": [],
   "source": [
    "df_study = df_study.merge(df_prj_pub_link, on='project_key', how='left')\n",
    "df_comp = df_comp.merge(df_prj_pub_link, on='project_key', how='left')"
   ]
  },
  {
   "cell_type": "code",
   "execution_count": 241,
   "metadata": {
    "collapsed": false
   },
   "outputs": [
    {
     "data": {
      "text/html": [
       "<div>\n",
       "<table border=\"1\" class=\"dataframe\">\n",
       "  <thead>\n",
       "    <tr style=\"text-align: right;\">\n",
       "      <th></th>\n",
       "      <th>full_name</th>\n",
       "      <th>pi_key</th>\n",
       "      <th>last_name</th>\n",
       "      <th>first_name</th>\n",
       "      <th>middle_name</th>\n",
       "      <th>last_initial</th>\n",
       "      <th>first_initial</th>\n",
       "      <th>middle_initial</th>\n",
       "      <th>is_study</th>\n",
       "      <th>is_comp</th>\n",
       "      <th>project_key</th>\n",
       "      <th>publication_key</th>\n",
       "    </tr>\n",
       "  </thead>\n",
       "  <tbody>\n",
       "    <tr>\n",
       "      <th>0</th>\n",
       "      <td>weisman, lois s</td>\n",
       "      <td>nih_1881574</td>\n",
       "      <td>weisman</td>\n",
       "      <td>lois</td>\n",
       "      <td>s</td>\n",
       "      <td>w</td>\n",
       "      <td>l</td>\n",
       "      <td>s</td>\n",
       "      <td>1</td>\n",
       "      <td>0</td>\n",
       "      <td>R37GM062261</td>\n",
       "      <td>15821138.0</td>\n",
       "    </tr>\n",
       "    <tr>\n",
       "      <th>1</th>\n",
       "      <td>weisman, lois s</td>\n",
       "      <td>nih_1881574</td>\n",
       "      <td>weisman</td>\n",
       "      <td>lois</td>\n",
       "      <td>s</td>\n",
       "      <td>w</td>\n",
       "      <td>l</td>\n",
       "      <td>s</td>\n",
       "      <td>1</td>\n",
       "      <td>0</td>\n",
       "      <td>R37GM062261</td>\n",
       "      <td>15684027.0</td>\n",
       "    </tr>\n",
       "    <tr>\n",
       "      <th>2</th>\n",
       "      <td>weisman, lois s</td>\n",
       "      <td>nih_1881574</td>\n",
       "      <td>weisman</td>\n",
       "      <td>lois</td>\n",
       "      <td>s</td>\n",
       "      <td>w</td>\n",
       "      <td>l</td>\n",
       "      <td>s</td>\n",
       "      <td>1</td>\n",
       "      <td>0</td>\n",
       "      <td>R37GM062261</td>\n",
       "      <td>16437158.0</td>\n",
       "    </tr>\n",
       "    <tr>\n",
       "      <th>3</th>\n",
       "      <td>weisman, lois s</td>\n",
       "      <td>nih_1881574</td>\n",
       "      <td>weisman</td>\n",
       "      <td>lois</td>\n",
       "      <td>s</td>\n",
       "      <td>w</td>\n",
       "      <td>l</td>\n",
       "      <td>s</td>\n",
       "      <td>1</td>\n",
       "      <td>0</td>\n",
       "      <td>R37GM062261</td>\n",
       "      <td>18653471.0</td>\n",
       "    </tr>\n",
       "    <tr>\n",
       "      <th>4</th>\n",
       "      <td>weisman, lois s</td>\n",
       "      <td>nih_1881574</td>\n",
       "      <td>weisman</td>\n",
       "      <td>lois</td>\n",
       "      <td>s</td>\n",
       "      <td>w</td>\n",
       "      <td>l</td>\n",
       "      <td>s</td>\n",
       "      <td>1</td>\n",
       "      <td>0</td>\n",
       "      <td>R37GM062261</td>\n",
       "      <td>18391069.0</td>\n",
       "    </tr>\n",
       "  </tbody>\n",
       "</table>\n",
       "</div>"
      ],
      "text/plain": [
       "         full_name       pi_key last_name first_name middle_name last_initial  \\\n",
       "0  weisman, lois s  nih_1881574   weisman       lois           s            w   \n",
       "1  weisman, lois s  nih_1881574   weisman       lois           s            w   \n",
       "2  weisman, lois s  nih_1881574   weisman       lois           s            w   \n",
       "3  weisman, lois s  nih_1881574   weisman       lois           s            w   \n",
       "4  weisman, lois s  nih_1881574   weisman       lois           s            w   \n",
       "\n",
       "  first_initial middle_initial  is_study  is_comp  project_key  \\\n",
       "0             l              s         1        0  R37GM062261   \n",
       "1             l              s         1        0  R37GM062261   \n",
       "2             l              s         1        0  R37GM062261   \n",
       "3             l              s         1        0  R37GM062261   \n",
       "4             l              s         1        0  R37GM062261   \n",
       "\n",
       "   publication_key  \n",
       "0       15821138.0  \n",
       "1       15684027.0  \n",
       "2       16437158.0  \n",
       "3       18653471.0  \n",
       "4       18391069.0  "
      ]
     },
     "execution_count": 241,
     "metadata": {},
     "output_type": "execute_result"
    }
   ],
   "source": [
    "df_study.head(5)"
   ]
  },
  {
   "cell_type": "markdown",
   "metadata": {},
   "source": [
    "### Join Author with Publications"
   ]
  },
  {
   "cell_type": "code",
   "execution_count": 242,
   "metadata": {
    "collapsed": true
   },
   "outputs": [],
   "source": [
    "sql = '''\n",
    "Select * \n",
    "From publication\n",
    "'''\n",
    "df_pub = pd.read_sql(sql, con_nih)\n"
   ]
  },
  {
   "cell_type": "code",
   "execution_count": 243,
   "metadata": {
    "collapsed": false
   },
   "outputs": [
    {
     "data": {
      "text/html": [
       "<div>\n",
       "<table border=\"1\" class=\"dataframe\">\n",
       "  <thead>\n",
       "    <tr style=\"text-align: right;\">\n",
       "      <th></th>\n",
       "      <th>AFFILIATION</th>\n",
       "      <th>AUTHOR_LIST</th>\n",
       "      <th>COUNTRY</th>\n",
       "      <th>ISSN</th>\n",
       "      <th>JOURNAL_ISSUE</th>\n",
       "      <th>JOURNAL_TITLE</th>\n",
       "      <th>JOURNAL_TITLE_ABBR</th>\n",
       "      <th>JOURNAL_VOLUME</th>\n",
       "      <th>LANG</th>\n",
       "      <th>PAGE_NUMBER</th>\n",
       "      <th>PMC_ID</th>\n",
       "      <th>PMID</th>\n",
       "      <th>PUB_DATE</th>\n",
       "      <th>PUB_TITLE</th>\n",
       "      <th>PUB_YEAR</th>\n",
       "    </tr>\n",
       "  </thead>\n",
       "  <tbody>\n",
       "    <tr>\n",
       "      <th>0</th>\n",
       "      <td>None</td>\n",
       "      <td>Rudnisky, Christopher J; Belin, Michael W; Guo...</td>\n",
       "      <td>United States</td>\n",
       "      <td>1879-1891</td>\n",
       "      <td>None</td>\n",
       "      <td>American journal of ophthalmology</td>\n",
       "      <td>Am J Ophthalmol</td>\n",
       "      <td>162</td>\n",
       "      <td>eng</td>\n",
       "      <td>89-98.e1</td>\n",
       "      <td>NaN</td>\n",
       "      <td>26550696</td>\n",
       "      <td>2016 Feb</td>\n",
       "      <td>Visual Acuity Outcomes of the Boston Keratopro...</td>\n",
       "      <td>2016</td>\n",
       "    </tr>\n",
       "    <tr>\n",
       "      <th>1</th>\n",
       "      <td>None</td>\n",
       "      <td>Stanton, Bonita; Dinaj-Koci, Veronica; Wang, B...</td>\n",
       "      <td>United States</td>\n",
       "      <td>1573-3254</td>\n",
       "      <td>6</td>\n",
       "      <td>AIDS and behavior</td>\n",
       "      <td>AIDS Behav</td>\n",
       "      <td>20</td>\n",
       "      <td>eng</td>\n",
       "      <td>1182-96</td>\n",
       "      <td>4842173.0</td>\n",
       "      <td>26499123</td>\n",
       "      <td>2016 Jun</td>\n",
       "      <td>Adolescent HIV Risk Reduction in the Bahamas: ...</td>\n",
       "      <td>2016</td>\n",
       "    </tr>\n",
       "    <tr>\n",
       "      <th>2</th>\n",
       "      <td>None</td>\n",
       "      <td>Phipps, Matthew C; Huang, YiHui; Yamaguchi, Ry...</td>\n",
       "      <td>United States</td>\n",
       "      <td>1554-527X</td>\n",
       "      <td>2</td>\n",
       "      <td>Journal of orthopaedic research : official pub...</td>\n",
       "      <td>J Orthop Res</td>\n",
       "      <td>34</td>\n",
       "      <td>eng</td>\n",
       "      <td>307-13</td>\n",
       "      <td>NaN</td>\n",
       "      <td>26016440</td>\n",
       "      <td>2016 Feb</td>\n",
       "      <td>In vivo monitoring of activated macrophages an...</td>\n",
       "      <td>2016</td>\n",
       "    </tr>\n",
       "    <tr>\n",
       "      <th>3</th>\n",
       "      <td>None</td>\n",
       "      <td>Herrera-Almario, Gabriel E; Kirk, Katherine; G...</td>\n",
       "      <td>United States</td>\n",
       "      <td>1879-1883</td>\n",
       "      <td>2</td>\n",
       "      <td>American journal of surgery</td>\n",
       "      <td>Am J Surg</td>\n",
       "      <td>211</td>\n",
       "      <td>eng</td>\n",
       "      <td>315-20</td>\n",
       "      <td>4789170.0</td>\n",
       "      <td>26590043</td>\n",
       "      <td>2016 Feb</td>\n",
       "      <td>The effect of video review of resident laparos...</td>\n",
       "      <td>2016</td>\n",
       "    </tr>\n",
       "    <tr>\n",
       "      <th>4</th>\n",
       "      <td>None</td>\n",
       "      <td>Baker, Marissa G; Stover, Bert; Simpson, Chris...</td>\n",
       "      <td>Germany</td>\n",
       "      <td>1432-1246</td>\n",
       "      <td>4</td>\n",
       "      <td>International archives of occupational and env...</td>\n",
       "      <td>Int Arch Occup Environ Health</td>\n",
       "      <td>89</td>\n",
       "      <td>eng</td>\n",
       "      <td>679-87</td>\n",
       "      <td>4829443.0</td>\n",
       "      <td>26589320</td>\n",
       "      <td>2016 May</td>\n",
       "      <td>Using exposure windows to explore an elusive b...</td>\n",
       "      <td>2016</td>\n",
       "    </tr>\n",
       "  </tbody>\n",
       "</table>\n",
       "</div>"
      ],
      "text/plain": [
       "  AFFILIATION                                        AUTHOR_LIST  \\\n",
       "0        None  Rudnisky, Christopher J; Belin, Michael W; Guo...   \n",
       "1        None  Stanton, Bonita; Dinaj-Koci, Veronica; Wang, B...   \n",
       "2        None  Phipps, Matthew C; Huang, YiHui; Yamaguchi, Ry...   \n",
       "3        None  Herrera-Almario, Gabriel E; Kirk, Katherine; G...   \n",
       "4        None  Baker, Marissa G; Stover, Bert; Simpson, Chris...   \n",
       "\n",
       "         COUNTRY       ISSN JOURNAL_ISSUE  \\\n",
       "0  United States  1879-1891          None   \n",
       "1  United States  1573-3254             6   \n",
       "2  United States  1554-527X             2   \n",
       "3  United States  1879-1883             2   \n",
       "4        Germany  1432-1246             4   \n",
       "\n",
       "                                       JOURNAL_TITLE  \\\n",
       "0                  American journal of ophthalmology   \n",
       "1                                  AIDS and behavior   \n",
       "2  Journal of orthopaedic research : official pub...   \n",
       "3                        American journal of surgery   \n",
       "4  International archives of occupational and env...   \n",
       "\n",
       "              JOURNAL_TITLE_ABBR JOURNAL_VOLUME LANG PAGE_NUMBER     PMC_ID  \\\n",
       "0                Am J Ophthalmol            162  eng    89-98.e1        NaN   \n",
       "1                     AIDS Behav             20  eng     1182-96  4842173.0   \n",
       "2                   J Orthop Res             34  eng      307-13        NaN   \n",
       "3                      Am J Surg            211  eng      315-20  4789170.0   \n",
       "4  Int Arch Occup Environ Health             89  eng      679-87  4829443.0   \n",
       "\n",
       "       PMID  PUB_DATE                                          PUB_TITLE  \\\n",
       "0  26550696  2016 Feb  Visual Acuity Outcomes of the Boston Keratopro...   \n",
       "1  26499123  2016 Jun  Adolescent HIV Risk Reduction in the Bahamas: ...   \n",
       "2  26016440  2016 Feb  In vivo monitoring of activated macrophages an...   \n",
       "3  26590043  2016 Feb  The effect of video review of resident laparos...   \n",
       "4  26589320  2016 May  Using exposure windows to explore an elusive b...   \n",
       "\n",
       "   PUB_YEAR  \n",
       "0      2016  \n",
       "1      2016  \n",
       "2      2016  \n",
       "3      2016  \n",
       "4      2016  "
      ]
     },
     "execution_count": 243,
     "metadata": {},
     "output_type": "execute_result"
    }
   ],
   "source": [
    "df_pub.head(5)"
   ]
  },
  {
   "cell_type": "code",
   "execution_count": 245,
   "metadata": {
    "collapsed": false
   },
   "outputs": [],
   "source": [
    "df_study = df_study.merge(df_pub, left_on='publication_key',  right_on='PMID', how='left')\n",
    "df_comp = df_comp.merge(df_pub, left_on='publication_key',  right_on='PMID', how='left')"
   ]
  },
  {
   "cell_type": "code",
   "execution_count": 248,
   "metadata": {
    "collapsed": false
   },
   "outputs": [],
   "source": [
    "df_study.to_csv('./data/study_pub.csv', header=True, index=False)\n",
    "df_comp.to_csv('./data/study_pub.csv', header=True, index=False)"
   ]
  },
  {
   "cell_type": "code",
   "execution_count": null,
   "metadata": {
    "collapsed": true
   },
   "outputs": [],
   "source": []
  }
 ],
 "metadata": {
  "anaconda-cloud": {},
  "kernelspec": {
   "display_name": "Python [conda root]",
   "language": "python",
   "name": "conda-root-py"
  },
  "language_info": {
   "codemirror_mode": {
    "name": "ipython",
    "version": 3
   },
   "file_extension": ".py",
   "mimetype": "text/x-python",
   "name": "python",
   "nbconvert_exporter": "python",
   "pygments_lexer": "ipython3",
   "version": "3.5.2"
  }
 },
 "nbformat": 4,
 "nbformat_minor": 1
}

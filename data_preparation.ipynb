{
 "cells": [
  {
   "cell_type": "code",
   "execution_count": 1,
   "metadata": {
    "collapsed": false
   },
   "outputs": [],
   "source": [
    "from subprocess import call\n",
    "import glob\n",
    "import os\n",
    "import pandas as pd\n",
    "import numpy as np\n",
    "import sqlite3 as sq\n",
    "from sqlalchemy import create_engine\n",
    "pd.options.display.max_columns = 999"
   ]
  },
  {
   "cell_type": "code",
   "execution_count": null,
   "metadata": {
    "collapsed": true
   },
   "outputs": [],
   "source": [
    "years = range(2001,2017)"
   ]
  },
  {
   "cell_type": "code",
   "execution_count": 9,
   "metadata": {
    "collapsed": false
   },
   "outputs": [],
   "source": [
    "#grants\n",
    "for y in years:\n",
    "    url = 'https://exporter.nih.gov/CSVs/final/RePORTER_PRJ_C_FY' + str(y) + '.zip'\n",
    "    call(['wget', url])\n",
    "#2017\n",
    "for y in range(1,10):\n",
    "    url = 'https://exporter.nih.gov/CSVs/final/RePORTER_PRJ_C_FY2017_00' + str(y) + '.zip'\n",
    "    call(['wget', url])\n",
    "for y in range(0,9):\n",
    "    url = 'https://exporter.nih.gov/CSVs/final/RePORTER_PRJ_C_FY2017_01' + str(y) + '.zip'\n",
    "    call(['wget', url])\n",
    "#publications\n",
    "for y in years:\n",
    "    url = 'https://exporter.nih.gov/CSVs/final/RePORTER_PUB_C_' + str(y) + '.zip'\n",
    "    call(['wget', url])\n",
    "#link_table\n",
    "for y in years:\n",
    "    url = 'https://exporter.nih.gov/CSVs/final/RePORTER_PUBLNK_C_' + str(y) + '.zip'\n",
    "    call(['wget', url])"
   ]
  },
  {
   "cell_type": "code",
   "execution_count": 12,
   "metadata": {
    "collapsed": true
   },
   "outputs": [],
   "source": [
    "!unzip \\*.zip"
   ]
  },
  {
   "cell_type": "code",
   "execution_count": 25,
   "metadata": {
    "collapsed": false
   },
   "outputs": [],
   "source": [
    "prj_files  = glob.glob('RePORTER_PRJ*.*')\n",
    "pub_files  = glob.glob('RePORTER_PUB_C*.*')\n",
    "link_files = glob.glob('RePORTER_PUBLNK_C_*.*')"
   ]
  },
  {
   "cell_type": "code",
   "execution_count": 2,
   "metadata": {
    "collapsed": true
   },
   "outputs": [],
   "source": [
    "con = sq.connect('nih.db')"
   ]
  },
  {
   "cell_type": "code",
   "execution_count": null,
   "metadata": {
    "collapsed": true
   },
   "outputs": [],
   "source": [
    "def appendTables(fns, tableName):\n",
    "    lst_file = fns.pop()\n",
    "    df = pd.read_csv(lst_file, header=0, encoding=\"iso-8859-1\")\n",
    "    all_cols = set(df.columns);\n",
    "    df.to_sql(tableName, con, flavor='sqlite', if_exists='replace', index=False)\n",
    "    for f in fns:\n",
    "        df_a = pd.read_csv(f, header = 0, encoding=\"iso-8859-1\")\n",
    "        col = set(df_a.columns);\n",
    "        miss_cols = all_cols - col;\n",
    "        print(f)\n",
    "        if len(miss_cols) !=0:\n",
    "            data = np.empty((len(df), len(miss_cols)),dtype=object)\n",
    "            df_new = pd.DataFrame(data, columns=miss_cols)\n",
    "            df_a = pd.concat([df_a, df_new], axis=1)\n",
    "        df_a.to_sql(tableName, con, flavor='sqlite', if_exists='append', index=False)\n",
    "appendTables(prj_files, 'projects')\n",
    "appendTables(pub_files, 'publication')\n",
    "appendTables(link_files, 'link')\n",
    "\n",
    "\n"
   ]
  },
  {
   "cell_type": "code",
   "execution_count": null,
   "metadata": {
    "collapsed": true
   },
   "outputs": [],
   "source": [
    "con.execute('create index link_PMID_index on link(PMID);')\n",
    "con.execute('create index link_PROJECT_NUMBER_index on link(PROJECT_NUMBER);')\n",
    "con.execute('create index link_PMID_index on publication(PMID);')\n",
    "con.execute('create index publication_PMID_index on publication(PMID);')\n"
   ]
  }
 ],
 "metadata": {
  "anaconda-cloud": {},
  "kernelspec": {
   "display_name": "Python [conda root]",
   "language": "python",
   "name": "conda-root-py"
  },
  "language_info": {
   "codemirror_mode": {
    "name": "ipython",
    "version": 3
   },
   "file_extension": ".py",
   "mimetype": "text/x-python",
   "name": "python",
   "nbconvert_exporter": "python",
   "pygments_lexer": "ipython3",
   "version": "3.5.2"
  }
 },
 "nbformat": 4,
 "nbformat_minor": 1
}

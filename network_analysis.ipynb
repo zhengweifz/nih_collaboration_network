{
 "cells": [
  {
   "cell_type": "code",
   "execution_count": 16,
   "metadata": {
    "collapsed": false
   },
   "outputs": [],
   "source": [
    "import igraph as ig"
   ]
  },
  {
   "cell_type": "code",
   "execution_count": 21,
   "metadata": {
    "collapsed": true
   },
   "outputs": [],
   "source": [
    "import pandas as pd\n",
    "import numpy as np\n",
    "pd.options.display.max_columns = 999"
   ]
  },
  {
   "cell_type": "code",
   "execution_count": 3,
   "metadata": {
    "collapsed": false
   },
   "outputs": [],
   "source": [
    "study_pub = pd.read_csv(\"../data/study_author_pub.csv\", header=0)\n",
    "comp_pub = pd.read_csv(\"../data/comp_author_pub.csv\", header=0)"
   ]
  },
  {
   "cell_type": "code",
   "execution_count": 4,
   "metadata": {
    "collapsed": false
   },
   "outputs": [
    {
     "data": {
      "text/html": [
       "<div>\n",
       "<table border=\"1\" class=\"dataframe\">\n",
       "  <thead>\n",
       "    <tr style=\"text-align: right;\">\n",
       "      <th></th>\n",
       "      <th>full_name</th>\n",
       "      <th>pi_key</th>\n",
       "      <th>last_name</th>\n",
       "      <th>first_name</th>\n",
       "      <th>middle_name</th>\n",
       "      <th>last_initial</th>\n",
       "      <th>first_initial</th>\n",
       "      <th>middle_initial</th>\n",
       "      <th>is_study</th>\n",
       "      <th>is_comp</th>\n",
       "      <th>project_key</th>\n",
       "      <th>publication_key</th>\n",
       "      <th>AFFILIATION</th>\n",
       "      <th>AUTHOR_LIST</th>\n",
       "      <th>COUNTRY</th>\n",
       "      <th>ISSN</th>\n",
       "      <th>JOURNAL_ISSUE</th>\n",
       "      <th>JOURNAL_TITLE</th>\n",
       "      <th>JOURNAL_TITLE_ABBR</th>\n",
       "      <th>JOURNAL_VOLUME</th>\n",
       "      <th>LANG</th>\n",
       "      <th>PAGE_NUMBER</th>\n",
       "      <th>PMC_ID</th>\n",
       "      <th>PMID</th>\n",
       "      <th>PUB_DATE</th>\n",
       "      <th>PUB_TITLE</th>\n",
       "      <th>PUB_YEAR</th>\n",
       "      <th>is_author</th>\n",
       "      <th>PI_IDS</th>\n",
       "      <th>PI_NAMEs</th>\n",
       "      <th>CORE_PROJECT_NUM</th>\n",
       "      <th>FY</th>\n",
       "      <th>ADMINISTERING_IC</th>\n",
       "      <th>TOTAL_COST</th>\n",
       "      <th>TOTAL_COST_SUB_PROJECT</th>\n",
       "      <th>ACTIVITY</th>\n",
       "      <th>FUNDING_MECHANISM</th>\n",
       "    </tr>\n",
       "  </thead>\n",
       "  <tbody>\n",
       "    <tr>\n",
       "      <th>0</th>\n",
       "      <td>gao, jiali</td>\n",
       "      <td>nih_1898316</td>\n",
       "      <td>gao</td>\n",
       "      <td>jiali</td>\n",
       "      <td>NaN</td>\n",
       "      <td>g</td>\n",
       "      <td>j</td>\n",
       "      <td>NaN</td>\n",
       "      <td>1</td>\n",
       "      <td>0</td>\n",
       "      <td>R01GM046736</td>\n",
       "      <td>16231943.0</td>\n",
       "      <td>Department of Chemistry and Supercomputer Inst...</td>\n",
       "      <td>Pu, Jingzhi; Ma, Shuhua; Garcia-Viloca, Mireia...</td>\n",
       "      <td>United States</td>\n",
       "      <td>0002-7863</td>\n",
       "      <td>42</td>\n",
       "      <td>Journal of the American Chemical Society</td>\n",
       "      <td>J Am Chem Soc</td>\n",
       "      <td>127</td>\n",
       "      <td>ENG</td>\n",
       "      <td>14879-86</td>\n",
       "      <td>4477101.0</td>\n",
       "      <td>16231943.0</td>\n",
       "      <td>2005 Oct 26</td>\n",
       "      <td>Nonperfect synchronization of reaction center ...</td>\n",
       "      <td>2005.0</td>\n",
       "      <td>True</td>\n",
       "      <td>1898316;</td>\n",
       "      <td>GAO, JIALI;</td>\n",
       "      <td>R01GM046736</td>\n",
       "      <td>2001</td>\n",
       "      <td>GM</td>\n",
       "      <td>195300.0</td>\n",
       "      <td>0.0</td>\n",
       "      <td>R01</td>\n",
       "      <td>NaN</td>\n",
       "    </tr>\n",
       "  </tbody>\n",
       "</table>\n",
       "</div>"
      ],
      "text/plain": [
       "    full_name       pi_key last_name first_name middle_name last_initial  \\\n",
       "0  gao, jiali  nih_1898316       gao      jiali         NaN            g   \n",
       "\n",
       "  first_initial middle_initial  is_study  is_comp  project_key  \\\n",
       "0             j            NaN         1        0  R01GM046736   \n",
       "\n",
       "   publication_key                                        AFFILIATION  \\\n",
       "0       16231943.0  Department of Chemistry and Supercomputer Inst...   \n",
       "\n",
       "                                         AUTHOR_LIST        COUNTRY  \\\n",
       "0  Pu, Jingzhi; Ma, Shuhua; Garcia-Viloca, Mireia...  United States   \n",
       "\n",
       "        ISSN JOURNAL_ISSUE                             JOURNAL_TITLE  \\\n",
       "0  0002-7863            42  Journal of the American Chemical Society   \n",
       "\n",
       "  JOURNAL_TITLE_ABBR JOURNAL_VOLUME LANG PAGE_NUMBER     PMC_ID        PMID  \\\n",
       "0      J Am Chem Soc            127  ENG    14879-86  4477101.0  16231943.0   \n",
       "\n",
       "      PUB_DATE                                          PUB_TITLE  PUB_YEAR  \\\n",
       "0  2005 Oct 26  Nonperfect synchronization of reaction center ...    2005.0   \n",
       "\n",
       "  is_author    PI_IDS     PI_NAMEs CORE_PROJECT_NUM    FY ADMINISTERING_IC  \\\n",
       "0      True  1898316;  GAO, JIALI;      R01GM046736  2001               GM   \n",
       "\n",
       "   TOTAL_COST  TOTAL_COST_SUB_PROJECT ACTIVITY FUNDING_MECHANISM  \n",
       "0    195300.0                     0.0      R01               NaN  "
      ]
     },
     "execution_count": 4,
     "metadata": {},
     "output_type": "execute_result"
    }
   ],
   "source": [
    "study_pub.head(1)"
   ]
  },
  {
   "cell_type": "code",
   "execution_count": 39,
   "metadata": {
    "collapsed": false
   },
   "outputs": [],
   "source": [
    "# create author full names to expand author lists of publications\n",
    "study_pub['author_name'] = study_pub['last_name'].str.capitalize() + ', ' + study_pub['first_name'].str.capitalize() + ' ' +  study_pub['middle_initial'].str.upper()\n",
    "comp_pub['author_name'] = comp_pub['last_name'].str.capitalize() + ', ' + comp_pub['first_name'].str.capitalize() + ' ' +  comp_pub['middle_initial'].str.upper()\n",
    "study_pub['author_name_no_mi'] = study_pub['last_name'].str.capitalize() + ', ' + study_pub['first_name'].str.capitalize() \n",
    "comp_pub['author_name_no_mi'] = comp_pub['last_name'].str.capitalize() + ', ' + comp_pub['first_name'].str.capitalize() \n",
    "study_authors_df = study_pub[['author_name','author_name_no_mi']]\n",
    "comp_authors_df = comp_pub[['author_name','author_name_no_mi']]\n",
    "study_authors_df = study_authors_df.drop_duplicates('author_name')\n",
    "comp_authors_df = comp_authors_df.drop_duplicates('author_name')\n",
    "study_authors = study_authors_df.values[:,0]\n",
    "study_authors_nomi = study_authors_df.values[:,1]\n",
    "comp_authors = comp_authors_df.values[:,0]\n",
    "comp_authors_nomi = comp_authors_df.values[:,1]\n",
    "#combine all publications\n",
    "all_pub = pd.concat([study_pub, comp_pub], axis=0)\n",
    "all_pub = all_pub.drop_duplicates('PMID')\n",
    "temp_df = all_pub[['AUTHOR_LIST','PMID']]\n",
    "temp_df = all_pub[['AUTHOR_LIST','PMID']]"
   ]
  },
  {
   "cell_type": "code",
   "execution_count": 88,
   "metadata": {
    "collapsed": false
   },
   "outputs": [],
   "source": [
    "#expand the author list to a long format\n",
    "vals = temp_df.values\n",
    "numRow, numCol = vals.shape\n",
    "authors = []\n",
    "pmid = []\n",
    "group = []\n",
    "for i in range(numRow):\n",
    "    if vals[i, 0] is not None and vals[i, 1] is not None:\n",
    "        al = vals[i, 0].strip().split(';')\n",
    "        al = [a.strip() for a in al ]\n",
    "        al = [a for a in al if  a != '']\n",
    "        for a in al:\n",
    "            if a in study_authors:\n",
    "                group.append('study')\n",
    "                authors.append(a)\n",
    "            elif a in study_authors_nomi:\n",
    "                group.append('study')\n",
    "                authors.append(str(study_authors[study_authors_nomi==a][0]))\n",
    "            elif a in comp_authors:\n",
    "                group.append('comp')\n",
    "                authors.append(a)\n",
    "            elif a in comp_authors_nomi:\n",
    "                group.append('comp')\n",
    "                authors.append(str(comp_authors[comp_authors_nomi==a][0]))\n",
    "            elif a == 'Nelson, William James':\n",
    "                group.append('study')\n",
    "                authors.append('Nelson, William J')\n",
    "            elif a == 'Macmillan, David W C':\n",
    "                group.append('study')\n",
    "                authors.append('Macmillan, David W')\n",
    "            elif a == 'Pendergast, Ann Marie':\n",
    "                group.append('comp')\n",
    "                authors.append('Pendergast, Ann M')\n",
    "            elif a == 'Au, Jessie L-S':\n",
    "                group.append('comp')\n",
    "                authors.append('Au, Jessie L') \n",
    "            elif a == 'Peterlin, Boris Matija':\n",
    "                group.append('comp')\n",
    "                authors.append('Peterlin, Boris M') \n",
    "            elif a == 'Yan, Shi Du':\n",
    "                group.append('comp')\n",
    "                authors.append('Yan, Shi D')     \n",
    "            else:\n",
    "                group.append('others')\n",
    "                authors.append(a)\n",
    "            pmid.append(vals[i, 1])\n",
    "df_net = pd.DataFrame({'authors': authors, 'pmid': pmid, 'group': group})\n",
    "df_net = df_net[df_net.authors != 'nan']\n",
    "df_net.to_csv('../data/net_raw.csv', index=False, header=True)\n",
    "df.columns"
   ]
  },
  {
   "cell_type": "markdown",
   "metadata": {},
   "source": [
    "### Creating a edge list"
   ]
  },
  {
   "cell_type": "code",
   "execution_count": 5,
   "metadata": {
    "collapsed": false
   },
   "outputs": [],
   "source": [
    "# the whole set of authors\n",
    "df = pd.read_csv('net_raw.csv', header=0)\n",
    "df = df.drop_duplicates()\n",
    "df.to_csv('../data/net_raw.csv', index=False, header=True)\n",
    "df_net = df[['authors', 'pmid']]\n",
    "df_group = df[['authors', 'group']]\n",
    "df_group = df_group.drop_duplicates()\n",
    "df_group.columns = ['Id', 'Group']\n",
    "## study group\n",
    "df_study = df[df.group=='study']\n",
    "df_study_gr = df_study[['authors', 'group']]\n",
    "df_study_gr = df_study_gr.drop_duplicates()\n",
    "df_study_gr.columns = ['Id', 'Group']\n",
    "## comp group\n",
    "df_comp = df[df.group=='comp']\n",
    "df_comp_gr = df_comp[['authors', 'group']]\n",
    "df_comp_gr = df_comp_gr.drop_duplicates()\n",
    "df_comp_gr.columns = ['Id', 'Group']\n",
    "df_group.to_csv('../data/nodes_gephi.csv', header=True)\n",
    "df_study_gr.to_csv('../data/study_nodes_gephi.csv', header=True)\n",
    "df_comp_gr.to_csv('../data/comp_nodes_gephi.csv', header=True)\n",
    "\n"
   ]
  },
  {
   "cell_type": "code",
   "execution_count": 43,
   "metadata": {
    "collapsed": false
   },
   "outputs": [],
   "source": [
    "#unique publications\n",
    "#looping over publications to create edge list\n",
    "def getEdges(df):\n",
    "    uniq_pub = df.pmid.unique()\n",
    "    edges_list = np.empty((0,2), 'object')\n",
    "    pmids = np.empty(0, np.float64)\n",
    "    for idx, p in enumerate(uniq_pub):\n",
    "        if (idx % 1000) == 0:\n",
    "            print(idx)\n",
    "        df_p = df[df.pmid == p]\n",
    "        a4p = df_p.values[:,0]\n",
    "        len_a = len(a4p)\n",
    "        for i in range(len_a):\n",
    "            if len_a == 1:\n",
    "                edges[:,0] = a4p[i]\n",
    "                edges[:,1] = a4p[i]\n",
    "                edges_list = np.r_[edges_list, edges]\n",
    "                num_row = 1\n",
    "                e_ids = np.ones(num_row) * p\n",
    "                pmids = np.r_[pmids, e_ids]\n",
    "            else:\n",
    "                if i == (len_a - 1):\n",
    "                    pass\n",
    "                else:\n",
    "                    num_row = len_a - i - 1\n",
    "                    edges = np.empty((num_row, 2), 'object')\n",
    "                    edges[:,0] = a4p[i]\n",
    "                    edges[:,1] = a4p[i+1::]\n",
    "                    e_ids = np.ones(num_row) * p\n",
    "                    edges_list = np.r_[edges_list, edges]\n",
    "                    pmids = np.r_[pmids, e_ids]\n",
    "    return edges_list, pmids"
   ]
  },
  {
   "cell_type": "code",
   "execution_count": null,
   "metadata": {
    "collapsed": false
   },
   "outputs": [],
   "source": [
    "study_edges, study_pmid = getEdges(df_study)\n",
    "comp_edges, comp_pmid = getEdges(df_comp)"
   ]
  },
  {
   "cell_type": "code",
   "execution_count": 48,
   "metadata": {
    "collapsed": false
   },
   "outputs": [
    {
     "data": {
      "text/plain": [
       "array([['Kellogg, Douglas R', 'Sullivan, William T'],\n",
       "       ['Stivers, James T', 'Cole, Philip A'],\n",
       "       ['Stivers, James T', 'Greenberg, Marc M'],\n",
       "       ..., \n",
       "       ['Glick, Benjamin S', 'Rothman, James E'],\n",
       "       ['Linstedt, Adam D', 'Rothman, James E'],\n",
       "       ['Cane, David E', 'Puglisi, Joseph D']], dtype=object)"
      ]
     },
     "execution_count": 48,
     "metadata": {},
     "output_type": "execute_result"
    }
   ],
   "source": [
    "study_edges"
   ]
  },
  {
   "cell_type": "code",
   "execution_count": 45,
   "metadata": {
    "collapsed": false
   },
   "outputs": [],
   "source": [
    "def createGraphCsv(edge_list, pmids, file_name):\n",
    "    df_edges_raws = pd.DataFrame(edge_list, columns=['Source', 'Targe'])\n",
    "    df_edges_pmids = pd.DataFrame(pmids, columns=['pmids'])\n",
    "    df_gephi = pd.concat([df_edges_raws, df_edges_pmids], axis=1);\n",
    "    df_gephi.columns = ['Source', 'Target', 'Label']\n",
    "    ### undirect graph \n",
    "    df_gephi['Type'] = 'Undirected'\n",
    "    pub_attr = all_pub[['PMID', 'PUB_YEAR','COUNTRY']]\n",
    "    df_gephi = df_gephi.merge(pub_attr, left_on='Label', right_on='PMID', how='left')\n",
    "    df_gephi.drop(['PMID'], axis=1, inplace=True)\n",
    "    df_gephi.to_csv(\"../data/\" + file_name + '.csv', index=False, header=True)"
   ]
  },
  {
   "cell_type": "code",
   "execution_count": 46,
   "metadata": {
    "collapsed": false
   },
   "outputs": [],
   "source": [
    "createGraphCsv(study_edges, study_pmid, 'study_edges')\n",
    "createGraphCsv(comp_edges, comp_pmid, 'comp_edges')"
   ]
  },
  {
   "cell_type": "code",
   "execution_count": 49,
   "metadata": {
    "collapsed": false
   },
   "outputs": [
    {
     "data": {
      "text/html": [
       "<div>\n",
       "<table border=\"1\" class=\"dataframe\">\n",
       "  <thead>\n",
       "    <tr style=\"text-align: right;\">\n",
       "      <th></th>\n",
       "      <th>full_name</th>\n",
       "      <th>pi_key</th>\n",
       "      <th>last_name</th>\n",
       "      <th>first_name</th>\n",
       "      <th>middle_name</th>\n",
       "      <th>last_initial</th>\n",
       "      <th>first_initial</th>\n",
       "      <th>middle_initial</th>\n",
       "      <th>is_study</th>\n",
       "      <th>is_comp</th>\n",
       "      <th>project_key</th>\n",
       "      <th>publication_key</th>\n",
       "      <th>AFFILIATION</th>\n",
       "      <th>AUTHOR_LIST</th>\n",
       "      <th>COUNTRY</th>\n",
       "      <th>ISSN</th>\n",
       "      <th>JOURNAL_ISSUE</th>\n",
       "      <th>JOURNAL_TITLE</th>\n",
       "      <th>JOURNAL_TITLE_ABBR</th>\n",
       "      <th>JOURNAL_VOLUME</th>\n",
       "      <th>LANG</th>\n",
       "      <th>PAGE_NUMBER</th>\n",
       "      <th>PMC_ID</th>\n",
       "      <th>PMID</th>\n",
       "      <th>PUB_DATE</th>\n",
       "      <th>PUB_TITLE</th>\n",
       "      <th>PUB_YEAR</th>\n",
       "      <th>is_author</th>\n",
       "      <th>PI_IDS</th>\n",
       "      <th>PI_NAMEs</th>\n",
       "      <th>CORE_PROJECT_NUM</th>\n",
       "      <th>FY</th>\n",
       "      <th>ADMINISTERING_IC</th>\n",
       "      <th>TOTAL_COST</th>\n",
       "      <th>TOTAL_COST_SUB_PROJECT</th>\n",
       "      <th>ACTIVITY</th>\n",
       "      <th>FUNDING_MECHANISM</th>\n",
       "      <th>author_name</th>\n",
       "      <th>author_name_no_mi</th>\n",
       "    </tr>\n",
       "  </thead>\n",
       "  <tbody>\n",
       "    <tr>\n",
       "      <th>1726</th>\n",
       "      <td>gibbs, richard a</td>\n",
       "      <td>nih_1898145</td>\n",
       "      <td>gibbs</td>\n",
       "      <td>richard</td>\n",
       "      <td>a</td>\n",
       "      <td>g</td>\n",
       "      <td>r</td>\n",
       "      <td>a</td>\n",
       "      <td>0</td>\n",
       "      <td>1</td>\n",
       "      <td>U54HG003273</td>\n",
       "      <td>15057822.0</td>\n",
       "      <td>Human Genome Sequencing Center, Department of ...</td>\n",
       "      <td>Gibbs, Richard A; Weinstock, George M; Metzker...</td>\n",
       "      <td>England</td>\n",
       "      <td>0028-0836</td>\n",
       "      <td>6982</td>\n",
       "      <td>Nature</td>\n",
       "      <td>Nature</td>\n",
       "      <td>428</td>\n",
       "      <td>ENG</td>\n",
       "      <td>493-521</td>\n",
       "      <td>NaN</td>\n",
       "      <td>15057822.0</td>\n",
       "      <td>2004 Apr 1</td>\n",
       "      <td>Genome sequence of the Brown Norway rat yields...</td>\n",
       "      <td>2004.0</td>\n",
       "      <td>True</td>\n",
       "      <td>1898145;</td>\n",
       "      <td>GIBBS, RICHARD A;</td>\n",
       "      <td>U54HG003273</td>\n",
       "      <td>2004</td>\n",
       "      <td>HG</td>\n",
       "      <td>500000.0</td>\n",
       "      <td>0.0</td>\n",
       "      <td>U54</td>\n",
       "      <td>NaN</td>\n",
       "      <td>Gibbs, Richard A</td>\n",
       "      <td>Gibbs, Richard</td>\n",
       "    </tr>\n",
       "  </tbody>\n",
       "</table>\n",
       "</div>"
      ],
      "text/plain": [
       "             full_name       pi_key last_name first_name middle_name  \\\n",
       "1726  gibbs, richard a  nih_1898145     gibbs    richard           a   \n",
       "\n",
       "     last_initial first_initial middle_initial  is_study  is_comp  \\\n",
       "1726            g             r              a         0        1   \n",
       "\n",
       "      project_key  publication_key  \\\n",
       "1726  U54HG003273       15057822.0   \n",
       "\n",
       "                                            AFFILIATION  \\\n",
       "1726  Human Genome Sequencing Center, Department of ...   \n",
       "\n",
       "                                            AUTHOR_LIST  COUNTRY       ISSN  \\\n",
       "1726  Gibbs, Richard A; Weinstock, George M; Metzker...  England  0028-0836   \n",
       "\n",
       "     JOURNAL_ISSUE JOURNAL_TITLE JOURNAL_TITLE_ABBR JOURNAL_VOLUME LANG  \\\n",
       "1726          6982        Nature             Nature            428  ENG   \n",
       "\n",
       "     PAGE_NUMBER  PMC_ID        PMID    PUB_DATE  \\\n",
       "1726     493-521     NaN  15057822.0  2004 Apr 1   \n",
       "\n",
       "                                              PUB_TITLE  PUB_YEAR is_author  \\\n",
       "1726  Genome sequence of the Brown Norway rat yields...    2004.0      True   \n",
       "\n",
       "        PI_IDS           PI_NAMEs CORE_PROJECT_NUM    FY ADMINISTERING_IC  \\\n",
       "1726  1898145;  GIBBS, RICHARD A;      U54HG003273  2004               HG   \n",
       "\n",
       "      TOTAL_COST  TOTAL_COST_SUB_PROJECT ACTIVITY FUNDING_MECHANISM  \\\n",
       "1726    500000.0                     0.0      U54               NaN   \n",
       "\n",
       "           author_name author_name_no_mi  \n",
       "1726  Gibbs, Richard A    Gibbs, Richard  "
      ]
     },
     "execution_count": 49,
     "metadata": {},
     "output_type": "execute_result"
    }
   ],
   "source": [
    "all_pub[all_pub['PMID'] == 15057822.0]"
   ]
  },
  {
   "cell_type": "code",
   "execution_count": 50,
   "metadata": {
    "collapsed": true
   },
   "outputs": [],
   "source": [
    "a = all_pub[all_pub['PMID'] == 15057822.0]['AUTHOR_LIST'].iloc[0]"
   ]
  },
  {
   "cell_type": "code",
   "execution_count": 53,
   "metadata": {
    "collapsed": false
   },
   "outputs": [],
   "source": [
    "al = a.split(';')\n",
    "print(len(al))\n",
    "from scipy.misc import comb\n",
    "from scipy.special import perm\n",
    "comb(231,2)"
   ]
  },
  {
   "cell_type": "markdown",
   "metadata": {},
   "source": [
    "### Using both publication and author as nodes"
   ]
  },
  {
   "cell_type": "code",
   "execution_count": 74,
   "metadata": {
    "collapsed": false
   },
   "outputs": [],
   "source": [
    "df_net.columns = ['Source', 'Target']\n",
    "df_net['Type'] = 'Undirected'\n",
    "df_net.to_csv('../data/edge_pubnode_autnode.csv', index=False, header=True)\n",
    "df_pub = pd.DataFrame({'Id': df_net.Target.unique()})\n",
    "df_pub['Group'] = 'pub'\n",
    "df_nodes = pd.concat([df_group, df_pub], axis=0)\n",
    "df_nodes.to_csv('../data/node_pubnode_autnode.csv', index=False, header=True)"
   ]
  },
  {
   "cell_type": "markdown",
   "metadata": {
    "collapsed": true
   },
   "source": [
    "### Calculate Statstics among author groups"
   ]
  },
  {
   "cell_type": "code",
   "execution_count": 1,
   "metadata": {
    "collapsed": false
   },
   "outputs": [
    {
     "ename": "NameError",
     "evalue": "name 'pd' is not defined",
     "output_type": "error",
     "traceback": [
      "\u001b[0;31m---------------------------------------------------------------------------\u001b[0m",
      "\u001b[0;31mNameError\u001b[0m                                 Traceback (most recent call last)",
      "\u001b[0;32m<ipython-input-1-faeccfcc5c1e>\u001b[0m in \u001b[0;36m<module>\u001b[0;34m()\u001b[0m\n\u001b[0;32m----> 1\u001b[0;31m \u001b[0mall_nodes\u001b[0m \u001b[0;34m=\u001b[0m \u001b[0mpd\u001b[0m\u001b[0;34m.\u001b[0m\u001b[0mread_csv\u001b[0m\u001b[0;34m(\u001b[0m\u001b[0;34m'../data/nodes_gephi.csv'\u001b[0m\u001b[0;34m,\u001b[0m \u001b[0mheader\u001b[0m\u001b[0;34m=\u001b[0m\u001b[0;36m0\u001b[0m\u001b[0;34m)\u001b[0m\u001b[0;34m\u001b[0m\u001b[0m\n\u001b[0m",
      "\u001b[0;31mNameError\u001b[0m: name 'pd' is not defined"
     ]
    }
   ],
   "source": [
    "all_nodes = pd.read_csv('../data/nodes_gephi.csv', header=0)"
   ]
  },
  {
   "cell_type": "code",
   "execution_count": 23,
   "metadata": {
    "collapsed": false
   },
   "outputs": [],
   "source": [
    "all_nodes = all_nodes.drop('Unnamed: 0', axis=1)"
   ]
  },
  {
   "cell_type": "code",
   "execution_count": 24,
   "metadata": {
    "collapsed": false
   },
   "outputs": [
    {
     "data": {
      "text/plain": [
       "(400, 2)"
      ]
     },
     "execution_count": 24,
     "metadata": {},
     "output_type": "execute_result"
    }
   ],
   "source": [
    "all_nodes[all_nodes.Group == 'study'].shape"
   ]
  },
  {
   "cell_type": "code",
   "execution_count": 25,
   "metadata": {
    "collapsed": false
   },
   "outputs": [
    {
     "data": {
      "text/plain": [
       "array(['others', 'study', 'comp'], dtype=object)"
      ]
     },
     "execution_count": 25,
     "metadata": {},
     "output_type": "execute_result"
    }
   ],
   "source": [
    "all_nodes.Group.unique()"
   ]
  },
  {
   "cell_type": "code",
   "execution_count": 26,
   "metadata": {
    "collapsed": false
   },
   "outputs": [
    {
     "data": {
      "text/plain": [
       "(139651, 2)"
      ]
     },
     "execution_count": 26,
     "metadata": {},
     "output_type": "execute_result"
    }
   ],
   "source": [
    "all_nodes.shape"
   ]
  },
  {
   "cell_type": "code",
   "execution_count": null,
   "metadata": {
    "collapsed": false
   },
   "outputs": [],
   "source": [
    "g = Graph(len(all_nodes))\n",
    "g.vs['name'] = all_nodes.Id\n",
    "g.vs['group'] = all_nodes.Group\n",
    "edges = pd.read_csv('../data/edges_gephi.csv', header=0)\n",
    "g.add_edges(edges[['Source', 'Target']].values.tolist())\n",
    "g.es['pmid'] = edges['Label']\n",
    "g.es['PUB_YEAR'] = edges['PUB_YEAR']\n",
    "g.es['COUNTRY'] = edges['COUNTRY']"
   ]
  },
  {
   "cell_type": "code",
   "execution_count": null,
   "metadata": {
    "collapsed": true
   },
   "outputs": [],
   "source": [
    "g.vs[\"bs\"] = g.betweenness()"
   ]
  },
  {
   "cell_type": "code",
   "execution_count": 45,
   "metadata": {
    "collapsed": false
   },
   "outputs": [
    {
     "name": "stdout",
     "output_type": "stream",
     "text": [
      "The average degree of the whole network: 37.73\n",
      "\n",
      "The average degree of the study nodes: 310.85\n",
      "\n",
      "The average degree of the comparison nodes: 530.35\n",
      "\n",
      "The average degree of the other nodes: 35.74\n",
      "\n"
     ]
    }
   ],
   "source": [
    "#average degree \n",
    "print('The average degree of the whole network: {0:0.2f}\\n'.format(mean(g.degree())))\n",
    "#study group degree\n",
    "study_nodes = g.vs.select(lambda v : v['group'] == 'study')\n",
    "print('The average degree of the study nodes: {0:0.2f}\\n'.format(mean(study_nodes.degree())))\n",
    "comp_nodes = g.vs.select(lambda v : v['group'] == 'comp')\n",
    "print('The average degree of the comparison nodes: {0:0.2f}\\n'.format(mean(comp_nodes.degree())))\n",
    "other_nodes = g.vs.select(lambda v : v['group'] == 'others')\n",
    "print('The average degree of the other nodes: {0:0.2f}\\n'.format(mean(other_nodes.degree())))\n"
   ]
  },
  {
   "cell_type": "code",
   "execution_count": 43,
   "metadata": {
    "collapsed": false
   },
   "outputs": [
    {
     "data": {
      "text/plain": [
       "7"
      ]
     },
     "execution_count": 43,
     "metadata": {},
     "output_type": "execute_result"
    }
   ],
   "source": [
    "#nodes with degree 0\n",
    "nodes_no_edges = g.vs.select(_degree=0)\n",
    "len(nodes_no_edges)"
   ]
  },
  {
   "cell_type": "code",
   "execution_count": 49,
   "metadata": {
    "collapsed": false
   },
   "outputs": [
    {
     "name": "stdout",
     "output_type": "stream",
     "text": [
      "The average betweenness of the whole network: 232397.24\n",
      "\n",
      "The average betweenness of the study nodes: 12948939.37\n",
      "\n",
      "The average betweenness of the comparison nodes: 21887753.12\n",
      "\n",
      "The average betweenness of the other nodes: 143088.63\n",
      "\n"
     ]
    }
   ],
   "source": [
    "#average degree \n",
    "print('The average betweenness of the whole network: {0:0.2f}\\n'.format(mean(g.vs['bs'])))\n",
    "#study group degree\n",
    "study_nodes = g.vs.select(lambda v : v['group'] == 'study')\n",
    "print('The average betweenness of the study nodes: {0:0.2f}\\n'.format(mean(study_nodes['bs'])))\n",
    "comp_nodes = g.vs.select(lambda v : v['group'] == 'comp')\n",
    "print('The average betweenness of the comparison nodes: {0:0.2f}\\n'.format(mean(comp_nodes['bs'])))\n",
    "other_nodes = g.vs.select(lambda v : v['group'] == 'others')\n",
    "print('The average betweenness of the other nodes: {0:0.2f}\\n'.format(mean(other_nodes['bs'])))\n",
    "\n"
   ]
  },
  {
   "cell_type": "code",
   "execution_count": 50,
   "metadata": {
    "collapsed": true
   },
   "outputs": [],
   "source": [
    "g.vs['closeness'] = g.closeness()"
   ]
  },
  {
   "cell_type": "code",
   "execution_count": 51,
   "metadata": {
    "collapsed": false
   },
   "outputs": [
    {
     "name": "stdout",
     "output_type": "stream",
     "text": [
      "The average closeness of the whole network: 0.01\n",
      "\n",
      "The average closeness of the study nodes: 0.01\n",
      "\n",
      "The average closeness of the comparison nodes: 0.01\n",
      "\n",
      "The average closeness of the other nodes: 0.01\n",
      "\n"
     ]
    }
   ],
   "source": [
    "#average degree \n",
    "print('The average closeness of the whole network: {0:0.2f}\\n'.format(mean(g.vs['closeness'])))\n",
    "#study group degree\n",
    "study_nodes = g.vs.select(lambda v : v['group'] == 'study')\n",
    "print('The average closeness of the study nodes: {0:0.2f}\\n'.format(mean(study_nodes['closeness'])))\n",
    "comp_nodes = g.vs.select(lambda v : v['group'] == 'comp')\n",
    "print('The average closeness of the comparison nodes: {0:0.2f}\\n'.format(mean(comp_nodes['closeness'])))\n",
    "other_nodes = g.vs.select(lambda v : v['group'] == 'others')\n",
    "print('The average closeness of the other nodes: {0:0.2f}\\n'.format(mean(other_nodes['closeness'])))\n",
    "\n",
    "\n"
   ]
  },
  {
   "cell_type": "code",
   "execution_count": 28,
   "metadata": {
    "collapsed": false
   },
   "outputs": [],
   "source": [
    "g.write_pickle('all_author_graph.pkl')"
   ]
  },
  {
   "cell_type": "code",
   "execution_count": 30,
   "metadata": {
    "collapsed": true
   },
   "outputs": [],
   "source": [
    "import pickle as pk"
   ]
  },
  {
   "cell_type": "code",
   "execution_count": 32,
   "metadata": {
    "collapsed": false
   },
   "outputs": [
    {
     "ename": "TypeError",
     "evalue": "file must have 'read' and 'readline' attributes",
     "output_type": "error",
     "traceback": [
      "\u001b[0;31m---------------------------------------------------------------------------\u001b[0m",
      "\u001b[0;31mTypeError\u001b[0m                                 Traceback (most recent call last)",
      "\u001b[0;32m<ipython-input-32-776a77f4296d>\u001b[0m in \u001b[0;36m<module>\u001b[0;34m()\u001b[0m\n\u001b[0;32m----> 1\u001b[0;31m \u001b[0mg\u001b[0m \u001b[0;34m=\u001b[0m \u001b[0mpk\u001b[0m\u001b[0;34m.\u001b[0m\u001b[0mload\u001b[0m\u001b[0;34m(\u001b[0m\u001b[0;34m'all_author_graph.pkl'\u001b[0m\u001b[0;34m)\u001b[0m\u001b[0;34m\u001b[0m\u001b[0m\n\u001b[0m",
      "\u001b[0;31mTypeError\u001b[0m: file must have 'read' and 'readline' attributes"
     ]
    }
   ],
   "source": [
    "\n",
    "g = pk.load('all_author_graph.pkl')"
   ]
  },
  {
   "cell_type": "code",
   "execution_count": 5,
   "metadata": {
    "collapsed": false
   },
   "outputs": [
    {
     "name": "stdout",
     "output_type": "stream",
     "text": [
      "Untitled.ipynb\r\n",
      "all_author_graph\r\n",
      "data_exploration_only_fiscal_year_filter_by_cost.ipynb\r\n",
      "data_preparation.ipynb\r\n",
      "edges_gephi.csv\r\n",
      "edges_pmids.csv\r\n",
      "edges_raw.csv\r\n",
      "net_raw.csv\r\n",
      "network_analysis.ipynb\r\n",
      "nih_analyses.db\r\n",
      "sample_questions_v5.ipynb\r\n"
     ]
    }
   ],
   "source": [
    "!ls"
   ]
  },
  {
   "cell_type": "code",
   "execution_count": null,
   "metadata": {
    "collapsed": true
   },
   "outputs": [],
   "source": [
    "am = g.get_adjacency()"
   ]
  },
  {
   "cell_type": "code",
   "execution_count": 2,
   "metadata": {
    "collapsed": false
   },
   "outputs": [],
   "source": [
    "import numpy as np"
   ]
  },
  {
   "cell_type": "code",
   "execution_count": null,
   "metadata": {
    "collapsed": true
   },
   "outputs": [],
   "source": []
  }
 ],
 "metadata": {
  "kernelspec": {
   "display_name": "Python [conda root]",
   "language": "python",
   "name": "conda-root-py"
  },
  "language_info": {
   "codemirror_mode": {
    "name": "ipython",
    "version": 3
   },
   "file_extension": ".py",
   "mimetype": "text/x-python",
   "name": "python",
   "nbconvert_exporter": "python",
   "pygments_lexer": "ipython3",
   "version": "3.5.2"
  }
 },
 "nbformat": 4,
 "nbformat_minor": 1
}

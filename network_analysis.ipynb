{
 "cells": [
  {
   "cell_type": "code",
   "execution_count": 1,
   "metadata": {
    "collapsed": false
   },
   "outputs": [],
   "source": [
    "import igraph as ig\n",
    "import pandas as pd\n",
    "import numpy as np\n",
    "pd.options.display.max_columns = 999"
   ]
  },
  {
   "cell_type": "markdown",
   "metadata": {
    "collapsed": true
   },
   "source": [
    "### Calculate Statstics among author groups"
   ]
  },
  {
   "cell_type": "code",
   "execution_count": 1,
   "metadata": {
    "collapsed": false
   },
   "outputs": [
    {
     "ename": "NameError",
     "evalue": "name 'pd' is not defined",
     "output_type": "error",
     "traceback": [
      "\u001b[0;31m---------------------------------------------------------------------------\u001b[0m",
      "\u001b[0;31mNameError\u001b[0m                                 Traceback (most recent call last)",
      "\u001b[0;32m<ipython-input-1-faeccfcc5c1e>\u001b[0m in \u001b[0;36m<module>\u001b[0;34m()\u001b[0m\n\u001b[0;32m----> 1\u001b[0;31m \u001b[0mall_nodes\u001b[0m \u001b[0;34m=\u001b[0m \u001b[0mpd\u001b[0m\u001b[0;34m.\u001b[0m\u001b[0mread_csv\u001b[0m\u001b[0;34m(\u001b[0m\u001b[0;34m'../data/nodes_gephi.csv'\u001b[0m\u001b[0;34m,\u001b[0m \u001b[0mheader\u001b[0m\u001b[0;34m=\u001b[0m\u001b[0;36m0\u001b[0m\u001b[0;34m)\u001b[0m\u001b[0;34m\u001b[0m\u001b[0m\n\u001b[0m",
      "\u001b[0;31mNameError\u001b[0m: name 'pd' is not defined"
     ]
    }
   ],
   "source": [
    "all_nodes = pd.read_csv('../data/nodes_gephi.csv', header=0)"
   ]
  },
  {
   "cell_type": "code",
   "execution_count": 23,
   "metadata": {
    "collapsed": false
   },
   "outputs": [],
   "source": [
    "all_nodes = all_nodes.drop('Unnamed: 0', axis=1)"
   ]
  },
  {
   "cell_type": "code",
   "execution_count": 24,
   "metadata": {
    "collapsed": false
   },
   "outputs": [
    {
     "data": {
      "text/plain": [
       "(400, 2)"
      ]
     },
     "execution_count": 24,
     "metadata": {},
     "output_type": "execute_result"
    }
   ],
   "source": [
    "all_nodes[all_nodes.Group == 'study'].shape"
   ]
  },
  {
   "cell_type": "code",
   "execution_count": 25,
   "metadata": {
    "collapsed": false
   },
   "outputs": [
    {
     "data": {
      "text/plain": [
       "array(['others', 'study', 'comp'], dtype=object)"
      ]
     },
     "execution_count": 25,
     "metadata": {},
     "output_type": "execute_result"
    }
   ],
   "source": [
    "all_nodes.Group.unique()"
   ]
  },
  {
   "cell_type": "code",
   "execution_count": 26,
   "metadata": {
    "collapsed": false
   },
   "outputs": [
    {
     "data": {
      "text/plain": [
       "(139651, 2)"
      ]
     },
     "execution_count": 26,
     "metadata": {},
     "output_type": "execute_result"
    }
   ],
   "source": [
    "all_nodes.shape"
   ]
  },
  {
   "cell_type": "code",
   "execution_count": null,
   "metadata": {
    "collapsed": false
   },
   "outputs": [],
   "source": [
    "g = Graph(len(all_nodes))\n",
    "g.vs['name'] = all_nodes.Id\n",
    "g.vs['group'] = all_nodes.Group\n",
    "edges = pd.read_csv('../data/edges_gephi.csv', header=0)\n",
    "g.add_edges(edges[['Source', 'Target']].values.tolist())\n",
    "g.es['pmid'] = edges['Label']\n",
    "g.es['PUB_YEAR'] = edges['PUB_YEAR']\n",
    "g.es['COUNTRY'] = edges['COUNTRY']"
   ]
  },
  {
   "cell_type": "code",
   "execution_count": null,
   "metadata": {
    "collapsed": true
   },
   "outputs": [],
   "source": [
    "g.vs[\"bs\"] = g.betweenness()"
   ]
  },
  {
   "cell_type": "code",
   "execution_count": 45,
   "metadata": {
    "collapsed": false
   },
   "outputs": [
    {
     "name": "stdout",
     "output_type": "stream",
     "text": [
      "The average degree of the whole network: 37.73\n",
      "\n",
      "The average degree of the study nodes: 310.85\n",
      "\n",
      "The average degree of the comparison nodes: 530.35\n",
      "\n",
      "The average degree of the other nodes: 35.74\n",
      "\n"
     ]
    }
   ],
   "source": [
    "#average degree \n",
    "print('The average degree of the whole network: {0:0.2f}\\n'.format(mean(g.degree())))\n",
    "#study group degree\n",
    "study_nodes = g.vs.select(lambda v : v['group'] == 'study')\n",
    "print('The average degree of the study nodes: {0:0.2f}\\n'.format(mean(study_nodes.degree())))\n",
    "comp_nodes = g.vs.select(lambda v : v['group'] == 'comp')\n",
    "print('The average degree of the comparison nodes: {0:0.2f}\\n'.format(mean(comp_nodes.degree())))\n",
    "other_nodes = g.vs.select(lambda v : v['group'] == 'others')\n",
    "print('The average degree of the other nodes: {0:0.2f}\\n'.format(mean(other_nodes.degree())))\n"
   ]
  },
  {
   "cell_type": "code",
   "execution_count": 43,
   "metadata": {
    "collapsed": false
   },
   "outputs": [
    {
     "data": {
      "text/plain": [
       "7"
      ]
     },
     "execution_count": 43,
     "metadata": {},
     "output_type": "execute_result"
    }
   ],
   "source": [
    "#nodes with degree 0\n",
    "nodes_no_edges = g.vs.select(_degree=0)\n",
    "len(nodes_no_edges)"
   ]
  },
  {
   "cell_type": "code",
   "execution_count": 49,
   "metadata": {
    "collapsed": false
   },
   "outputs": [
    {
     "name": "stdout",
     "output_type": "stream",
     "text": [
      "The average betweenness of the whole network: 232397.24\n",
      "\n",
      "The average betweenness of the study nodes: 12948939.37\n",
      "\n",
      "The average betweenness of the comparison nodes: 21887753.12\n",
      "\n",
      "The average betweenness of the other nodes: 143088.63\n",
      "\n"
     ]
    }
   ],
   "source": [
    "#average degree \n",
    "print('The average betweenness of the whole network: {0:0.2f}\\n'.format(mean(g.vs['bs'])))\n",
    "#study group degree\n",
    "study_nodes = g.vs.select(lambda v : v['group'] == 'study')\n",
    "print('The average betweenness of the study nodes: {0:0.2f}\\n'.format(mean(study_nodes['bs'])))\n",
    "comp_nodes = g.vs.select(lambda v : v['group'] == 'comp')\n",
    "print('The average betweenness of the comparison nodes: {0:0.2f}\\n'.format(mean(comp_nodes['bs'])))\n",
    "other_nodes = g.vs.select(lambda v : v['group'] == 'others')\n",
    "print('The average betweenness of the other nodes: {0:0.2f}\\n'.format(mean(other_nodes['bs'])))\n",
    "\n"
   ]
  },
  {
   "cell_type": "code",
   "execution_count": 50,
   "metadata": {
    "collapsed": true
   },
   "outputs": [],
   "source": [
    "g.vs['closeness'] = g.closeness()"
   ]
  },
  {
   "cell_type": "code",
   "execution_count": 51,
   "metadata": {
    "collapsed": false
   },
   "outputs": [
    {
     "name": "stdout",
     "output_type": "stream",
     "text": [
      "The average closeness of the whole network: 0.01\n",
      "\n",
      "The average closeness of the study nodes: 0.01\n",
      "\n",
      "The average closeness of the comparison nodes: 0.01\n",
      "\n",
      "The average closeness of the other nodes: 0.01\n",
      "\n"
     ]
    }
   ],
   "source": [
    "#average degree \n",
    "print('The average closeness of the whole network: {0:0.2f}\\n'.format(mean(g.vs['closeness'])))\n",
    "#study group degree\n",
    "study_nodes = g.vs.select(lambda v : v['group'] == 'study')\n",
    "print('The average closeness of the study nodes: {0:0.2f}\\n'.format(mean(study_nodes['closeness'])))\n",
    "comp_nodes = g.vs.select(lambda v : v['group'] == 'comp')\n",
    "print('The average closeness of the comparison nodes: {0:0.2f}\\n'.format(mean(comp_nodes['closeness'])))\n",
    "other_nodes = g.vs.select(lambda v : v['group'] == 'others')\n",
    "print('The average closeness of the other nodes: {0:0.2f}\\n'.format(mean(other_nodes['closeness'])))\n",
    "\n",
    "\n"
   ]
  },
  {
   "cell_type": "code",
   "execution_count": 28,
   "metadata": {
    "collapsed": false
   },
   "outputs": [],
   "source": [
    "g.write_pickle('all_author_graph.pkl')"
   ]
  },
  {
   "cell_type": "code",
   "execution_count": 30,
   "metadata": {
    "collapsed": true
   },
   "outputs": [],
   "source": [
    "import pickle as pk"
   ]
  },
  {
   "cell_type": "code",
   "execution_count": 32,
   "metadata": {
    "collapsed": false
   },
   "outputs": [
    {
     "ename": "TypeError",
     "evalue": "file must have 'read' and 'readline' attributes",
     "output_type": "error",
     "traceback": [
      "\u001b[0;31m---------------------------------------------------------------------------\u001b[0m",
      "\u001b[0;31mTypeError\u001b[0m                                 Traceback (most recent call last)",
      "\u001b[0;32m<ipython-input-32-776a77f4296d>\u001b[0m in \u001b[0;36m<module>\u001b[0;34m()\u001b[0m\n\u001b[0;32m----> 1\u001b[0;31m \u001b[0mg\u001b[0m \u001b[0;34m=\u001b[0m \u001b[0mpk\u001b[0m\u001b[0;34m.\u001b[0m\u001b[0mload\u001b[0m\u001b[0;34m(\u001b[0m\u001b[0;34m'all_author_graph.pkl'\u001b[0m\u001b[0;34m)\u001b[0m\u001b[0;34m\u001b[0m\u001b[0m\n\u001b[0m",
      "\u001b[0;31mTypeError\u001b[0m: file must have 'read' and 'readline' attributes"
     ]
    }
   ],
   "source": [
    "\n",
    "g = pk.load('all_author_graph.pkl')"
   ]
  },
  {
   "cell_type": "code",
   "execution_count": 5,
   "metadata": {
    "collapsed": false
   },
   "outputs": [
    {
     "name": "stdout",
     "output_type": "stream",
     "text": [
      "Untitled.ipynb\r\n",
      "all_author_graph\r\n",
      "data_exploration_only_fiscal_year_filter_by_cost.ipynb\r\n",
      "data_preparation.ipynb\r\n",
      "edges_gephi.csv\r\n",
      "edges_pmids.csv\r\n",
      "edges_raw.csv\r\n",
      "net_raw.csv\r\n",
      "network_analysis.ipynb\r\n",
      "nih_analyses.db\r\n",
      "sample_questions_v5.ipynb\r\n"
     ]
    }
   ],
   "source": [
    "!ls"
   ]
  },
  {
   "cell_type": "code",
   "execution_count": null,
   "metadata": {
    "collapsed": true
   },
   "outputs": [],
   "source": [
    "am = g.get_adjacency()"
   ]
  },
  {
   "cell_type": "code",
   "execution_count": 2,
   "metadata": {
    "collapsed": false
   },
   "outputs": [],
   "source": [
    "import numpy as np"
   ]
  },
  {
   "cell_type": "code",
   "execution_count": null,
   "metadata": {
    "collapsed": true
   },
   "outputs": [],
   "source": []
  }
 ],
 "metadata": {
  "kernelspec": {
   "display_name": "Python [conda root]",
   "language": "python",
   "name": "conda-root-py"
  },
  "language_info": {
   "codemirror_mode": {
    "name": "ipython",
    "version": 3
   },
   "file_extension": ".py",
   "mimetype": "text/x-python",
   "name": "python",
   "nbconvert_exporter": "python",
   "pygments_lexer": "ipython3",
   "version": "3.5.2"
  }
 },
 "nbformat": 4,
 "nbformat_minor": 1
}
